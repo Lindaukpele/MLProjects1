{
 "cells": [
  {
   "cell_type": "markdown",
   "id": "ad92827d",
   "metadata": {},
   "source": [
    "## Popularity-based and Content-based Recommender\n",
    "#### Data source: https://www.kaggle.com/jealousleopard/goodreadsbooks/download"
   ]
  },
  {
   "cell_type": "code",
   "execution_count": 59,
   "id": "da4a9c3a-a259-4f65-9a97-b923b4a7e748",
   "metadata": {},
   "outputs": [],
   "source": [
    "import pandas as pd\n",
    "import numpy as np\n",
    "import warnings\n",
    "warnings.filterwarnings('ignore')"
   ]
  },
  {
   "cell_type": "code",
   "execution_count": 60,
   "id": "7b197353-f79a-416d-9e88-d084615ce4f4",
   "metadata": {},
   "outputs": [],
   "source": [
    "df = pd.read_csv('books.csv', on_bad_lines='warn')"
   ]
  },
  {
   "cell_type": "code",
   "execution_count": 61,
   "id": "a3ee3297-b7cb-4622-96b7-4c350272897f",
   "metadata": {},
   "outputs": [
    {
     "data": {
      "text/html": [
       "<div>\n",
       "<style scoped>\n",
       "    .dataframe tbody tr th:only-of-type {\n",
       "        vertical-align: middle;\n",
       "    }\n",
       "\n",
       "    .dataframe tbody tr th {\n",
       "        vertical-align: top;\n",
       "    }\n",
       "\n",
       "    .dataframe thead th {\n",
       "        text-align: right;\n",
       "    }\n",
       "</style>\n",
       "<table border=\"1\" class=\"dataframe\">\n",
       "  <thead>\n",
       "    <tr style=\"text-align: right;\">\n",
       "      <th></th>\n",
       "      <th>bookID</th>\n",
       "      <th>title</th>\n",
       "      <th>authors</th>\n",
       "      <th>average_rating</th>\n",
       "      <th>isbn</th>\n",
       "      <th>isbn13</th>\n",
       "      <th>language_code</th>\n",
       "      <th>num_pages</th>\n",
       "      <th>ratings_count</th>\n",
       "      <th>text_reviews_count</th>\n",
       "      <th>publication_date</th>\n",
       "      <th>publisher</th>\n",
       "    </tr>\n",
       "  </thead>\n",
       "  <tbody>\n",
       "    <tr>\n",
       "      <th>0</th>\n",
       "      <td>1</td>\n",
       "      <td>Harry Potter and the Half-Blood Prince (Harry ...</td>\n",
       "      <td>J.K. Rowling/Mary GrandPré</td>\n",
       "      <td>4.57</td>\n",
       "      <td>0439785960</td>\n",
       "      <td>9780439785969</td>\n",
       "      <td>eng</td>\n",
       "      <td>652</td>\n",
       "      <td>2095690</td>\n",
       "      <td>27591</td>\n",
       "      <td>9/16/2006</td>\n",
       "      <td>Scholastic Inc.</td>\n",
       "    </tr>\n",
       "    <tr>\n",
       "      <th>1</th>\n",
       "      <td>2</td>\n",
       "      <td>Harry Potter and the Order of the Phoenix (Har...</td>\n",
       "      <td>J.K. Rowling/Mary GrandPré</td>\n",
       "      <td>4.49</td>\n",
       "      <td>0439358078</td>\n",
       "      <td>9780439358071</td>\n",
       "      <td>eng</td>\n",
       "      <td>870</td>\n",
       "      <td>2153167</td>\n",
       "      <td>29221</td>\n",
       "      <td>9/1/2004</td>\n",
       "      <td>Scholastic Inc.</td>\n",
       "    </tr>\n",
       "    <tr>\n",
       "      <th>2</th>\n",
       "      <td>4</td>\n",
       "      <td>Harry Potter and the Chamber of Secrets (Harry...</td>\n",
       "      <td>J.K. Rowling</td>\n",
       "      <td>4.42</td>\n",
       "      <td>0439554896</td>\n",
       "      <td>9780439554893</td>\n",
       "      <td>eng</td>\n",
       "      <td>352</td>\n",
       "      <td>6333</td>\n",
       "      <td>244</td>\n",
       "      <td>11/1/2003</td>\n",
       "      <td>Scholastic</td>\n",
       "    </tr>\n",
       "  </tbody>\n",
       "</table>\n",
       "</div>"
      ],
      "text/plain": [
       "   bookID                                              title  \\\n",
       "0       1  Harry Potter and the Half-Blood Prince (Harry ...   \n",
       "1       2  Harry Potter and the Order of the Phoenix (Har...   \n",
       "2       4  Harry Potter and the Chamber of Secrets (Harry...   \n",
       "\n",
       "                      authors  average_rating        isbn         isbn13  \\\n",
       "0  J.K. Rowling/Mary GrandPré            4.57  0439785960  9780439785969   \n",
       "1  J.K. Rowling/Mary GrandPré            4.49  0439358078  9780439358071   \n",
       "2                J.K. Rowling            4.42  0439554896  9780439554893   \n",
       "\n",
       "  language_code    num_pages  ratings_count  text_reviews_count  \\\n",
       "0           eng          652        2095690               27591   \n",
       "1           eng          870        2153167               29221   \n",
       "2           eng          352           6333                 244   \n",
       "\n",
       "  publication_date        publisher  \n",
       "0        9/16/2006  Scholastic Inc.  \n",
       "1         9/1/2004  Scholastic Inc.  \n",
       "2        11/1/2003       Scholastic  "
      ]
     },
     "execution_count": 61,
     "metadata": {},
     "output_type": "execute_result"
    }
   ],
   "source": [
    "df.head(3)"
   ]
  },
  {
   "cell_type": "code",
   "execution_count": 62,
   "id": "baabfb4e-6dfa-43a1-84a6-0fa33075254b",
   "metadata": {},
   "outputs": [
    {
     "data": {
      "text/html": [
       "<div>\n",
       "<style scoped>\n",
       "    .dataframe tbody tr th:only-of-type {\n",
       "        vertical-align: middle;\n",
       "    }\n",
       "\n",
       "    .dataframe tbody tr th {\n",
       "        vertical-align: top;\n",
       "    }\n",
       "\n",
       "    .dataframe thead th {\n",
       "        text-align: right;\n",
       "    }\n",
       "</style>\n",
       "<table border=\"1\" class=\"dataframe\">\n",
       "  <thead>\n",
       "    <tr style=\"text-align: right;\">\n",
       "      <th></th>\n",
       "      <th>bookID</th>\n",
       "      <th>average_rating</th>\n",
       "      <th>isbn13</th>\n",
       "      <th>num_pages</th>\n",
       "      <th>ratings_count</th>\n",
       "      <th>text_reviews_count</th>\n",
       "    </tr>\n",
       "  </thead>\n",
       "  <tbody>\n",
       "    <tr>\n",
       "      <th>count</th>\n",
       "      <td>11123.000000</td>\n",
       "      <td>11123.000000</td>\n",
       "      <td>1.112300e+04</td>\n",
       "      <td>11123.000000</td>\n",
       "      <td>1.112300e+04</td>\n",
       "      <td>11123.000000</td>\n",
       "    </tr>\n",
       "    <tr>\n",
       "      <th>mean</th>\n",
       "      <td>21310.856963</td>\n",
       "      <td>3.934075</td>\n",
       "      <td>9.759880e+12</td>\n",
       "      <td>336.405556</td>\n",
       "      <td>1.794285e+04</td>\n",
       "      <td>542.048099</td>\n",
       "    </tr>\n",
       "    <tr>\n",
       "      <th>std</th>\n",
       "      <td>13094.727252</td>\n",
       "      <td>0.350485</td>\n",
       "      <td>4.429758e+11</td>\n",
       "      <td>241.152626</td>\n",
       "      <td>1.124992e+05</td>\n",
       "      <td>2576.619589</td>\n",
       "    </tr>\n",
       "    <tr>\n",
       "      <th>min</th>\n",
       "      <td>1.000000</td>\n",
       "      <td>0.000000</td>\n",
       "      <td>8.987060e+09</td>\n",
       "      <td>0.000000</td>\n",
       "      <td>0.000000e+00</td>\n",
       "      <td>0.000000</td>\n",
       "    </tr>\n",
       "    <tr>\n",
       "      <th>25%</th>\n",
       "      <td>10277.500000</td>\n",
       "      <td>3.770000</td>\n",
       "      <td>9.780345e+12</td>\n",
       "      <td>192.000000</td>\n",
       "      <td>1.040000e+02</td>\n",
       "      <td>9.000000</td>\n",
       "    </tr>\n",
       "    <tr>\n",
       "      <th>50%</th>\n",
       "      <td>20287.000000</td>\n",
       "      <td>3.960000</td>\n",
       "      <td>9.780582e+12</td>\n",
       "      <td>299.000000</td>\n",
       "      <td>7.450000e+02</td>\n",
       "      <td>47.000000</td>\n",
       "    </tr>\n",
       "    <tr>\n",
       "      <th>75%</th>\n",
       "      <td>32104.500000</td>\n",
       "      <td>4.140000</td>\n",
       "      <td>9.780872e+12</td>\n",
       "      <td>416.000000</td>\n",
       "      <td>5.000500e+03</td>\n",
       "      <td>238.000000</td>\n",
       "    </tr>\n",
       "    <tr>\n",
       "      <th>max</th>\n",
       "      <td>45641.000000</td>\n",
       "      <td>5.000000</td>\n",
       "      <td>9.790008e+12</td>\n",
       "      <td>6576.000000</td>\n",
       "      <td>4.597666e+06</td>\n",
       "      <td>94265.000000</td>\n",
       "    </tr>\n",
       "  </tbody>\n",
       "</table>\n",
       "</div>"
      ],
      "text/plain": [
       "             bookID  average_rating        isbn13     num_pages  \\\n",
       "count  11123.000000    11123.000000  1.112300e+04  11123.000000   \n",
       "mean   21310.856963        3.934075  9.759880e+12    336.405556   \n",
       "std    13094.727252        0.350485  4.429758e+11    241.152626   \n",
       "min        1.000000        0.000000  8.987060e+09      0.000000   \n",
       "25%    10277.500000        3.770000  9.780345e+12    192.000000   \n",
       "50%    20287.000000        3.960000  9.780582e+12    299.000000   \n",
       "75%    32104.500000        4.140000  9.780872e+12    416.000000   \n",
       "max    45641.000000        5.000000  9.790008e+12   6576.000000   \n",
       "\n",
       "       ratings_count  text_reviews_count  \n",
       "count   1.112300e+04        11123.000000  \n",
       "mean    1.794285e+04          542.048099  \n",
       "std     1.124992e+05         2576.619589  \n",
       "min     0.000000e+00            0.000000  \n",
       "25%     1.040000e+02            9.000000  \n",
       "50%     7.450000e+02           47.000000  \n",
       "75%     5.000500e+03          238.000000  \n",
       "max     4.597666e+06        94265.000000  "
      ]
     },
     "execution_count": 62,
     "metadata": {},
     "output_type": "execute_result"
    }
   ],
   "source": [
    "df.describe()"
   ]
  },
  {
   "cell_type": "code",
   "execution_count": 63,
   "id": "5d8ec808-54b2-4ffa-bd63-48e1521b8444",
   "metadata": {},
   "outputs": [],
   "source": [
    "len_metadata = len(df['bookID'].unique())"
   ]
  },
  {
   "cell_type": "code",
   "execution_count": 64,
   "id": "5618c268-a1a8-4c8f-a9ec-eceab7dacc9e",
   "metadata": {},
   "outputs": [
    {
     "data": {
      "text/html": [
       "<div>\n",
       "<style scoped>\n",
       "    .dataframe tbody tr th:only-of-type {\n",
       "        vertical-align: middle;\n",
       "    }\n",
       "\n",
       "    .dataframe tbody tr th {\n",
       "        vertical-align: top;\n",
       "    }\n",
       "\n",
       "    .dataframe thead th {\n",
       "        text-align: right;\n",
       "    }\n",
       "</style>\n",
       "<table border=\"1\" class=\"dataframe\">\n",
       "  <thead>\n",
       "    <tr style=\"text-align: right;\">\n",
       "      <th></th>\n",
       "      <th>0</th>\n",
       "      <th>1</th>\n",
       "    </tr>\n",
       "  </thead>\n",
       "  <tbody>\n",
       "    <tr>\n",
       "      <th>bookID</th>\n",
       "      <td>1</td>\n",
       "      <td>2</td>\n",
       "    </tr>\n",
       "    <tr>\n",
       "      <th>title</th>\n",
       "      <td>Harry Potter and the Half-Blood Prince (Harry ...</td>\n",
       "      <td>Harry Potter and the Order of the Phoenix (Har...</td>\n",
       "    </tr>\n",
       "    <tr>\n",
       "      <th>authors</th>\n",
       "      <td>J.K. Rowling/Mary GrandPré</td>\n",
       "      <td>J.K. Rowling/Mary GrandPré</td>\n",
       "    </tr>\n",
       "    <tr>\n",
       "      <th>average_rating</th>\n",
       "      <td>4.57</td>\n",
       "      <td>4.49</td>\n",
       "    </tr>\n",
       "    <tr>\n",
       "      <th>isbn</th>\n",
       "      <td>0439785960</td>\n",
       "      <td>0439358078</td>\n",
       "    </tr>\n",
       "    <tr>\n",
       "      <th>isbn13</th>\n",
       "      <td>9780439785969</td>\n",
       "      <td>9780439358071</td>\n",
       "    </tr>\n",
       "    <tr>\n",
       "      <th>language_code</th>\n",
       "      <td>eng</td>\n",
       "      <td>eng</td>\n",
       "    </tr>\n",
       "    <tr>\n",
       "      <th>num_pages</th>\n",
       "      <td>652</td>\n",
       "      <td>870</td>\n",
       "    </tr>\n",
       "    <tr>\n",
       "      <th>ratings_count</th>\n",
       "      <td>2095690</td>\n",
       "      <td>2153167</td>\n",
       "    </tr>\n",
       "    <tr>\n",
       "      <th>text_reviews_count</th>\n",
       "      <td>27591</td>\n",
       "      <td>29221</td>\n",
       "    </tr>\n",
       "    <tr>\n",
       "      <th>publication_date</th>\n",
       "      <td>9/16/2006</td>\n",
       "      <td>9/1/2004</td>\n",
       "    </tr>\n",
       "    <tr>\n",
       "      <th>publisher</th>\n",
       "      <td>Scholastic Inc.</td>\n",
       "      <td>Scholastic Inc.</td>\n",
       "    </tr>\n",
       "  </tbody>\n",
       "</table>\n",
       "</div>"
      ],
      "text/plain": [
       "                                                                    0  \\\n",
       "bookID                                                              1   \n",
       "title               Harry Potter and the Half-Blood Prince (Harry ...   \n",
       "authors                                    J.K. Rowling/Mary GrandPré   \n",
       "average_rating                                                   4.57   \n",
       "isbn                                                       0439785960   \n",
       "isbn13                                                  9780439785969   \n",
       "language_code                                                     eng   \n",
       "  num_pages                                                       652   \n",
       "ratings_count                                                 2095690   \n",
       "text_reviews_count                                              27591   \n",
       "publication_date                                            9/16/2006   \n",
       "publisher                                             Scholastic Inc.   \n",
       "\n",
       "                                                                    1  \n",
       "bookID                                                              2  \n",
       "title               Harry Potter and the Order of the Phoenix (Har...  \n",
       "authors                                    J.K. Rowling/Mary GrandPré  \n",
       "average_rating                                                   4.49  \n",
       "isbn                                                       0439358078  \n",
       "isbn13                                                  9780439358071  \n",
       "language_code                                                     eng  \n",
       "  num_pages                                                       870  \n",
       "ratings_count                                                 2153167  \n",
       "text_reviews_count                                              29221  \n",
       "publication_date                                             9/1/2004  \n",
       "publisher                                             Scholastic Inc.  "
      ]
     },
     "execution_count": 64,
     "metadata": {},
     "output_type": "execute_result"
    }
   ],
   "source": [
    "df.head(2).transpose()"
   ]
  },
  {
   "cell_type": "code",
   "execution_count": 65,
   "id": "2c9680a3-0e7a-4a8b-a72e-ba3142208f34",
   "metadata": {},
   "outputs": [
    {
     "data": {
      "text/html": [
       "<div>\n",
       "<style scoped>\n",
       "    .dataframe tbody tr th:only-of-type {\n",
       "        vertical-align: middle;\n",
       "    }\n",
       "\n",
       "    .dataframe tbody tr th {\n",
       "        vertical-align: top;\n",
       "    }\n",
       "\n",
       "    .dataframe thead th {\n",
       "        text-align: right;\n",
       "    }\n",
       "</style>\n",
       "<table border=\"1\" class=\"dataframe\">\n",
       "  <thead>\n",
       "    <tr style=\"text-align: right;\">\n",
       "      <th></th>\n",
       "      <th>bookID</th>\n",
       "      <th>title</th>\n",
       "      <th>authors</th>\n",
       "      <th>average_rating</th>\n",
       "      <th>isbn</th>\n",
       "      <th>isbn13</th>\n",
       "      <th>language_code</th>\n",
       "      <th>num_pages</th>\n",
       "      <th>ratings_count</th>\n",
       "      <th>text_reviews_count</th>\n",
       "      <th>publication_date</th>\n",
       "      <th>publisher</th>\n",
       "    </tr>\n",
       "  </thead>\n",
       "  <tbody>\n",
       "    <tr>\n",
       "      <th>5476</th>\n",
       "      <td>19788</td>\n",
       "      <td>The Goon Show  Volume 11: He's Fallen in the W...</td>\n",
       "      <td>NOT A BOOK</td>\n",
       "      <td>5.0</td>\n",
       "      <td>0563388323</td>\n",
       "      <td>9780563388326</td>\n",
       "      <td>eng</td>\n",
       "      <td>2</td>\n",
       "      <td>2</td>\n",
       "      <td>0</td>\n",
       "      <td>10/2/1995</td>\n",
       "      <td>BBC Physical Audio</td>\n",
       "    </tr>\n",
       "    <tr>\n",
       "      <th>5474</th>\n",
       "      <td>19786</td>\n",
       "      <td>The Goon Show  Volume 4: My Knees Have Fallen ...</td>\n",
       "      <td>NOT A BOOK</td>\n",
       "      <td>5.0</td>\n",
       "      <td>0563388692</td>\n",
       "      <td>9780563388692</td>\n",
       "      <td>eng</td>\n",
       "      <td>2</td>\n",
       "      <td>3</td>\n",
       "      <td>0</td>\n",
       "      <td>4/1/1996</td>\n",
       "      <td>BBC Physical Audio</td>\n",
       "    </tr>\n",
       "    <tr>\n",
       "      <th>624</th>\n",
       "      <td>2034</td>\n",
       "      <td>Comoediae 1: Acharenses/Equites/Nubes/Vespae/P...</td>\n",
       "      <td>Aristophanes/F.W. Hall/W.M. Geldart</td>\n",
       "      <td>5.0</td>\n",
       "      <td>0198145047</td>\n",
       "      <td>9780198145042</td>\n",
       "      <td>grc</td>\n",
       "      <td>364</td>\n",
       "      <td>0</td>\n",
       "      <td>0</td>\n",
       "      <td>2/22/1922</td>\n",
       "      <td>Oxford University Press  USA</td>\n",
       "    </tr>\n",
       "    <tr>\n",
       "      <th>9847</th>\n",
       "      <td>39580</td>\n",
       "      <td>The American Campaign: U.S. Presidential Campa...</td>\n",
       "      <td>James E. Campbell</td>\n",
       "      <td>5.0</td>\n",
       "      <td>089096940X</td>\n",
       "      <td>9780890969403</td>\n",
       "      <td>eng</td>\n",
       "      <td>314</td>\n",
       "      <td>0</td>\n",
       "      <td>0</td>\n",
       "      <td>5/1/2000</td>\n",
       "      <td>Texas A&amp;M University Press</td>\n",
       "    </tr>\n",
       "    <tr>\n",
       "      <th>4788</th>\n",
       "      <td>17224</td>\n",
       "      <td>The Diamond Color Meditation: Color Pathway to...</td>\n",
       "      <td>John  Diamond</td>\n",
       "      <td>5.0</td>\n",
       "      <td>1890995525</td>\n",
       "      <td>9781890995522</td>\n",
       "      <td>eng</td>\n",
       "      <td>74</td>\n",
       "      <td>5</td>\n",
       "      <td>3</td>\n",
       "      <td>2/1/2006</td>\n",
       "      <td>Square One Publishers</td>\n",
       "    </tr>\n",
       "  </tbody>\n",
       "</table>\n",
       "</div>"
      ],
      "text/plain": [
       "      bookID                                              title  \\\n",
       "5476   19788  The Goon Show  Volume 11: He's Fallen in the W...   \n",
       "5474   19786  The Goon Show  Volume 4: My Knees Have Fallen ...   \n",
       "624     2034  Comoediae 1: Acharenses/Equites/Nubes/Vespae/P...   \n",
       "9847   39580  The American Campaign: U.S. Presidential Campa...   \n",
       "4788   17224  The Diamond Color Meditation: Color Pathway to...   \n",
       "\n",
       "                                  authors  average_rating        isbn  \\\n",
       "5476                           NOT A BOOK             5.0  0563388323   \n",
       "5474                           NOT A BOOK             5.0  0563388692   \n",
       "624   Aristophanes/F.W. Hall/W.M. Geldart             5.0  0198145047   \n",
       "9847                    James E. Campbell             5.0  089096940X   \n",
       "4788                        John  Diamond             5.0  1890995525   \n",
       "\n",
       "             isbn13 language_code    num_pages  ratings_count  \\\n",
       "5476  9780563388326           eng            2              2   \n",
       "5474  9780563388692           eng            2              3   \n",
       "624   9780198145042           grc          364              0   \n",
       "9847  9780890969403           eng          314              0   \n",
       "4788  9781890995522           eng           74              5   \n",
       "\n",
       "      text_reviews_count publication_date                     publisher  \n",
       "5476                   0        10/2/1995            BBC Physical Audio  \n",
       "5474                   0         4/1/1996            BBC Physical Audio  \n",
       "624                    0        2/22/1922  Oxford University Press  USA  \n",
       "9847                   0         5/1/2000    Texas A&M University Press  \n",
       "4788                   3         2/1/2006         Square One Publishers  "
      ]
     },
     "execution_count": 65,
     "metadata": {},
     "output_type": "execute_result"
    }
   ],
   "source": [
    "top5AverageRating = df.sort_values(by = 'average_rating',\n",
    "                                     ascending = False).head(5)\n",
    "top5AverageRating"
   ]
  },
  {
   "cell_type": "code",
   "execution_count": 66,
   "id": "f58662b2-c58f-4a95-8eb9-85517e07e4fd",
   "metadata": {},
   "outputs": [
    {
     "data": {
      "text/html": [
       "<div>\n",
       "<style scoped>\n",
       "    .dataframe tbody tr th:only-of-type {\n",
       "        vertical-align: middle;\n",
       "    }\n",
       "\n",
       "    .dataframe tbody tr th {\n",
       "        vertical-align: top;\n",
       "    }\n",
       "\n",
       "    .dataframe thead th {\n",
       "        text-align: right;\n",
       "    }\n",
       "</style>\n",
       "<table border=\"1\" class=\"dataframe\">\n",
       "  <thead>\n",
       "    <tr style=\"text-align: right;\">\n",
       "      <th></th>\n",
       "      <th>bookID</th>\n",
       "      <th>title</th>\n",
       "      <th>authors</th>\n",
       "      <th>average_rating</th>\n",
       "      <th>isbn</th>\n",
       "      <th>isbn13</th>\n",
       "      <th>language_code</th>\n",
       "      <th>num_pages</th>\n",
       "      <th>ratings_count</th>\n",
       "      <th>text_reviews_count</th>\n",
       "      <th>publication_date</th>\n",
       "      <th>publisher</th>\n",
       "    </tr>\n",
       "  </thead>\n",
       "  <tbody>\n",
       "    <tr>\n",
       "      <th>10336</th>\n",
       "      <td>41865</td>\n",
       "      <td>Twilight (Twilight  #1)</td>\n",
       "      <td>Stephenie Meyer</td>\n",
       "      <td>3.59</td>\n",
       "      <td>0316015849</td>\n",
       "      <td>9780316015844</td>\n",
       "      <td>eng</td>\n",
       "      <td>501</td>\n",
       "      <td>4597666</td>\n",
       "      <td>94265</td>\n",
       "      <td>9/6/2006</td>\n",
       "      <td>Little  Brown and Company</td>\n",
       "    </tr>\n",
       "    <tr>\n",
       "      <th>1697</th>\n",
       "      <td>5907</td>\n",
       "      <td>The Hobbit  or There and Back Again</td>\n",
       "      <td>J.R.R. Tolkien</td>\n",
       "      <td>4.27</td>\n",
       "      <td>0618260307</td>\n",
       "      <td>9780618260300</td>\n",
       "      <td>eng</td>\n",
       "      <td>366</td>\n",
       "      <td>2530894</td>\n",
       "      <td>32871</td>\n",
       "      <td>8/15/2002</td>\n",
       "      <td>Houghton Mifflin</td>\n",
       "    </tr>\n",
       "    <tr>\n",
       "      <th>1462</th>\n",
       "      <td>5107</td>\n",
       "      <td>The Catcher in the Rye</td>\n",
       "      <td>J.D. Salinger</td>\n",
       "      <td>3.80</td>\n",
       "      <td>0316769177</td>\n",
       "      <td>9780316769174</td>\n",
       "      <td>eng</td>\n",
       "      <td>277</td>\n",
       "      <td>2457092</td>\n",
       "      <td>43499</td>\n",
       "      <td>1/30/2001</td>\n",
       "      <td>Back Bay Books</td>\n",
       "    </tr>\n",
       "    <tr>\n",
       "      <th>307</th>\n",
       "      <td>960</td>\n",
       "      <td>Angels &amp; Demons (Robert Langdon  #1)</td>\n",
       "      <td>Dan Brown</td>\n",
       "      <td>3.89</td>\n",
       "      <td>1416524797</td>\n",
       "      <td>9781416524793</td>\n",
       "      <td>eng</td>\n",
       "      <td>736</td>\n",
       "      <td>2418736</td>\n",
       "      <td>21303</td>\n",
       "      <td>4/1/2006</td>\n",
       "      <td>Pocket Books</td>\n",
       "    </tr>\n",
       "    <tr>\n",
       "      <th>3</th>\n",
       "      <td>5</td>\n",
       "      <td>Harry Potter and the Prisoner of Azkaban (Harr...</td>\n",
       "      <td>J.K. Rowling/Mary GrandPré</td>\n",
       "      <td>4.56</td>\n",
       "      <td>043965548X</td>\n",
       "      <td>9780439655484</td>\n",
       "      <td>eng</td>\n",
       "      <td>435</td>\n",
       "      <td>2339585</td>\n",
       "      <td>36325</td>\n",
       "      <td>5/1/2004</td>\n",
       "      <td>Scholastic Inc.</td>\n",
       "    </tr>\n",
       "  </tbody>\n",
       "</table>\n",
       "</div>"
      ],
      "text/plain": [
       "       bookID                                              title  \\\n",
       "10336   41865                            Twilight (Twilight  #1)   \n",
       "1697     5907                The Hobbit  or There and Back Again   \n",
       "1462     5107                             The Catcher in the Rye   \n",
       "307       960               Angels & Demons (Robert Langdon  #1)   \n",
       "3           5  Harry Potter and the Prisoner of Azkaban (Harr...   \n",
       "\n",
       "                          authors  average_rating        isbn         isbn13  \\\n",
       "10336             Stephenie Meyer            3.59  0316015849  9780316015844   \n",
       "1697               J.R.R. Tolkien            4.27  0618260307  9780618260300   \n",
       "1462                J.D. Salinger            3.80  0316769177  9780316769174   \n",
       "307                     Dan Brown            3.89  1416524797  9781416524793   \n",
       "3      J.K. Rowling/Mary GrandPré            4.56  043965548X  9780439655484   \n",
       "\n",
       "      language_code    num_pages  ratings_count  text_reviews_count  \\\n",
       "10336           eng          501        4597666               94265   \n",
       "1697            eng          366        2530894               32871   \n",
       "1462            eng          277        2457092               43499   \n",
       "307             eng          736        2418736               21303   \n",
       "3               eng          435        2339585               36325   \n",
       "\n",
       "      publication_date                  publisher  \n",
       "10336         9/6/2006  Little  Brown and Company  \n",
       "1697         8/15/2002           Houghton Mifflin  \n",
       "1462         1/30/2001             Back Bay Books  \n",
       "307           4/1/2006               Pocket Books  \n",
       "3             5/1/2004            Scholastic Inc.  "
      ]
     },
     "execution_count": 66,
     "metadata": {},
     "output_type": "execute_result"
    }
   ],
   "source": [
    "top5ratings = df.sort_values(by = 'ratings_count',ascending = False).head(5)\n",
    "top5ratings"
   ]
  },
  {
   "cell_type": "markdown",
   "id": "fcf63a3a-a346-4fdd-ab30-5a7defc90a47",
   "metadata": {},
   "source": [
    "## Use a Weighted Rating\n",
    "<font color = \"white\"> Create a function named popularity Recommender and use it to recommend books based on popularity. <br>\n",
    "Using a weighted rank similar to that used in the IMDB rating \n"
   ]
  },
  {
   "cell_type": "code",
   "execution_count": 9,
   "id": "a8d689e4-0be9-4dbf-b679-e8c0ef12dfca",
   "metadata": {},
   "outputs": [
    {
     "data": {
      "text/plain": [
       "Index(['bookID', 'title', 'authors', 'average_rating', 'isbn', 'isbn13',\n",
       "       'language_code', '  num_pages', 'ratings_count', 'text_reviews_count',\n",
       "       'publication_date', 'publisher'],\n",
       "      dtype='object')"
      ]
     },
     "execution_count": 9,
     "metadata": {},
     "output_type": "execute_result"
    }
   ],
   "source": [
    "df.columns"
   ]
  },
  {
   "cell_type": "code",
   "execution_count": 10,
   "id": "e490adc0-28d1-40d0-a0cb-6dabef36fa04",
   "metadata": {},
   "outputs": [],
   "source": [
    "def popularityRecommender(df):\n",
    "    \n",
    "    #Define the minimum vote count\n",
    "    minimum_rating_count = 0.75* df['ratings_count'].max()\n",
    "    \n",
    "    #Define C – the mean rating\n",
    "    mean_rating = df['average_rating'].mean()\n",
    "\n",
    "    df['weighted_rating'] = (((df['ratings_count']/(df['ratings_count']+minimum_rating_count)) * df['average_rating']) +\n",
    "                             ((minimum_rating_count/(df['ratings_count']+minimum_rating_count))*mean_rating))\n",
    "\n",
    "    recommendations = df.sort_values(by = 'weighted_rating',ascending = False).head(5)\n",
    "    \n",
    "    return(recommendations)   "
   ]
  },
  {
   "cell_type": "code",
   "execution_count": 11,
   "id": "7dadf96b-8ce9-4ef2-ae09-4e7db11b4e06",
   "metadata": {},
   "outputs": [
    {
     "data": {
      "text/html": [
       "<div>\n",
       "<style scoped>\n",
       "    .dataframe tbody tr th:only-of-type {\n",
       "        vertical-align: middle;\n",
       "    }\n",
       "\n",
       "    .dataframe tbody tr th {\n",
       "        vertical-align: top;\n",
       "    }\n",
       "\n",
       "    .dataframe thead th {\n",
       "        text-align: right;\n",
       "    }\n",
       "</style>\n",
       "<table border=\"1\" class=\"dataframe\">\n",
       "  <thead>\n",
       "    <tr style=\"text-align: right;\">\n",
       "      <th></th>\n",
       "      <th>title</th>\n",
       "      <th>ratings_count</th>\n",
       "      <th>average_rating</th>\n",
       "      <th>weighted_rating</th>\n",
       "    </tr>\n",
       "  </thead>\n",
       "  <tbody>\n",
       "    <tr>\n",
       "      <th>3</th>\n",
       "      <td>Harry Potter and the Prisoner of Azkaban (Harr...</td>\n",
       "      <td>2339585</td>\n",
       "      <td>4.56</td>\n",
       "      <td>4.187089</td>\n",
       "    </tr>\n",
       "    <tr>\n",
       "      <th>0</th>\n",
       "      <td>Harry Potter and the Half-Blood Prince (Harry ...</td>\n",
       "      <td>2095690</td>\n",
       "      <td>4.57</td>\n",
       "      <td>4.174464</td>\n",
       "    </tr>\n",
       "    <tr>\n",
       "      <th>1</th>\n",
       "      <td>Harry Potter and the Order of the Phoenix (Har...</td>\n",
       "      <td>2153167</td>\n",
       "      <td>4.49</td>\n",
       "      <td>4.147771</td>\n",
       "    </tr>\n",
       "    <tr>\n",
       "      <th>4415</th>\n",
       "      <td>Harry Potter and the Chamber of Secrets (Harry...</td>\n",
       "      <td>2293963</td>\n",
       "      <td>4.42</td>\n",
       "      <td>4.128198</td>\n",
       "    </tr>\n",
       "    <tr>\n",
       "      <th>23</th>\n",
       "      <td>The Fellowship of the Ring (The Lord of the Ri...</td>\n",
       "      <td>2128944</td>\n",
       "      <td>4.36</td>\n",
       "      <td>4.096661</td>\n",
       "    </tr>\n",
       "  </tbody>\n",
       "</table>\n",
       "</div>"
      ],
      "text/plain": [
       "                                                  title  ratings_count  \\\n",
       "3     Harry Potter and the Prisoner of Azkaban (Harr...        2339585   \n",
       "0     Harry Potter and the Half-Blood Prince (Harry ...        2095690   \n",
       "1     Harry Potter and the Order of the Phoenix (Har...        2153167   \n",
       "4415  Harry Potter and the Chamber of Secrets (Harry...        2293963   \n",
       "23    The Fellowship of the Ring (The Lord of the Ri...        2128944   \n",
       "\n",
       "      average_rating  weighted_rating  \n",
       "3               4.56         4.187089  \n",
       "0               4.57         4.174464  \n",
       "1               4.49         4.147771  \n",
       "4415            4.42         4.128198  \n",
       "23              4.36         4.096661  "
      ]
     },
     "execution_count": 11,
     "metadata": {},
     "output_type": "execute_result"
    }
   ],
   "source": [
    "top5 = popularityRecommender(df)\n",
    "top5[[\"title\",'ratings_count','average_rating','weighted_rating',]].head(5)"
   ]
  },
  {
   "cell_type": "code",
   "execution_count": 12,
   "id": "5a15b858-a3c8-42cc-9524-b6efe8b56e1f",
   "metadata": {},
   "outputs": [
    {
     "name": "stdout",
     "output_type": "stream",
     "text": [
      "The top 5 recommended books based on popularity are:\n",
      " ['Harry Potter and the Prisoner of Azkaban (Harry Potter  #3)'\n",
      " 'Harry Potter and the Half-Blood Prince (Harry Potter  #6)'\n",
      " 'Harry Potter and the Order of the Phoenix (Harry Potter  #5)'\n",
      " 'Harry Potter and the Chamber of Secrets (Harry Potter  #2)'\n",
      " 'The Fellowship of the Ring (The Lord of the Rings  #1)']\n"
     ]
    }
   ],
   "source": [
    "#The top 5 recommended books based on popularity are:\n",
    "top5Names = top5[\"title\"].head(5).values\n",
    "print(f'The top 5 recommended books based on popularity are:\\n {top5Names}')"
   ]
  },
  {
   "cell_type": "markdown",
   "id": "239fa7ba-5a5d-4037-ab17-0f2b409e4864",
   "metadata": {},
   "source": [
    "### <font color = \"white\"> Content Based Recommender\n",
    "<font color = \"white\"> Create a function named Content Based Recommender with TF-IDF and use it to recommend books based on content."
   ]
  },
  {
   "cell_type": "code",
   "execution_count": 45,
   "id": "92298f7c-2c64-4925-bf41-20801af9bdbc",
   "metadata": {},
   "outputs": [
    {
     "data": {
      "text/plain": [
       "(11123, 11090)"
      ]
     },
     "execution_count": 45,
     "metadata": {},
     "output_type": "execute_result"
    }
   ],
   "source": [
    "# Assign stop words based on language - stop words are words that you don't want to add up in our count, like the, a, of, etc.\n",
    "from sklearn.feature_extraction.text import TfidfVectorizer\n",
    "cbr = TfidfVectorizer(stop_words = 'english')\n",
    "\n",
    "# Replace empty descriptions with a blank \"\" value and transform the titles of books in our dataset into the matrix\n",
    "df['title'] = df['title'].fillna('')\n",
    "tfidf_matrix = cbr.fit_transform(df['title'])\n",
    "\n",
    "tfidf_matrix.shape"
   ]
  },
  {
   "cell_type": "code",
   "execution_count": 46,
   "id": "51de2dac-701d-4949-857b-b014e64d7de7",
   "metadata": {},
   "outputs": [
    {
     "name": "stdout",
     "output_type": "stream",
     "text": [
      "318 words in the stop list:\n",
      "\n",
      "frozenset({'eight', 'until', 'others', 'hers', 'somehow', 'go', 'after', 'front', 'eleven', 'then', 'me', 'thereupon', 'further', 'please', 'system', 'a', 'serious', 'our', 'the', 'afterwards', 'himself', 'upon', 'fifty', 'namely', 'otherwise', 'across', 'seeming', 'almost', 'though', 'and', 'more', 'were', 'becomes', 'four', 'beforehand', 'how', 'both', 'sometimes', 'ten', 'for', 'thru', 'latter', 'from', 'over', 'have', 'hereupon', 'their', 'now', 'to', 'would', 'on', 'un', 'fifteen', 'him', 'formerly', 'its', 'several', 'towards', 'becoming', 'these', 'above', 'empty', 'herein', 'inc', 'therefore', 'thence', 'here', 'cry', 'his', 'too', 'top', 'an', 'etc', 'before', 'move', 'bill', 'wherever', 'nowhere', 'been', 'her', 'detail', 'less', 'due', 'once', 're', 'at', 'many', 'some', 'during', 'another', 'either', 'elsewhere', 'most', 'everything', 'hasnt', 'thereafter', 'all', 'or', 'done', 'in', 'via', 'name', 'only', 'one', 'third', 'can', 'something', 'whereas', 'had', 'but', 'couldnt', 'ours', 'those', 'ever', 'there', 'nine', 'twenty', 'whole', 'perhaps', 'part', 'enough', 'not', 'why', 'wherein', 'noone', 'hundred', 'against', 'often', 'hereby', 'whereby', 'yourselves', 'itself', 'give', 'with', 'thus', 'few', 'show', 'might', 'become', 'beyond', 'sometime', 'will', 'so', 'herself', 'has', 'are', 'thick', 'if', 'first', 'fire', 'through', 'found', 'somewhere', 'this', 'made', 'whence', 'yours', 'out', 'cant', 'we', 'besides', 'my', 'very', 'ltd', 'therein', 'still', 'describe', 'since', 'hereafter', 'of', 'up', 'side', 'seemed', 'already', 'while', 'within', 'same', 'along', 'seems', 'beside', 'any', 'five', 'interest', 'co', 'down', 'do', 'whoever', 'whenever', 'into', 'full', 'seem', 'someone', 'even', 'off', 'myself', 'thin', 'amount', 'anywhere', 'amoungst', 'whereupon', 'moreover', 'ie', 'neither', 'mill', 'where', 'anyway', 'your', 'behind', 'hence', 'three', 'eg', 'except', 'nor', 'back', 'which', 'much', 'again', 'fill', 'should', 'i', 'us', 'under', 'he', 'else', 'they', 'mostly', 'see', 'toward', 'indeed', 'anyone', 'whom', 'former', 'that', 'without', 'anyhow', 'also', 'around', 'could', 'no', 'among', 'is', 'you', 'it', 'between', 'because', 'became', 'by', 'nothing', 'who', 'other', 'thereby', 'being', 'take', 'about', 'am', 'whatever', 'every', 'anything', 'alone', 'was', 'call', 'cannot', 'find', 'although', 'each', 'however', 'six', 'such', 'onto', 'throughout', 'always', 'least', 'none', 'mine', 'whereafter', 'own', 'next', 'well', 'de', 'be', 'must', 'bottom', 'rather', 'what', 'meanwhile', 'forty', 'when', 'yet', 'everyone', 'ourselves', 'sixty', 'below', 'con', 'nevertheless', 'per', 'latterly', 'whither', 'two', 'last', 'yourself', 'than', 'as', 'sincere', 'whose', 'twelve', 'themselves', 'keep', 'she', 'put', 'nobody', 'together', 'everywhere', 'may', 'get', 'whether', 'never', 'amongst', 'them'})\n"
     ]
    }
   ],
   "source": [
    "stop_words_list = cbr.get_stop_words()\n",
    "print(len(stop_words_list), \"words in the stop list:\\n\")\n",
    "print(stop_words_list)"
   ]
  },
  {
   "cell_type": "code",
   "execution_count": 47,
   "id": "755bd328-d9fd-4cc6-baf1-07bb8ba1ad44",
   "metadata": {},
   "outputs": [
    {
     "data": {
      "text/plain": [
       "'Harry Potter and the Half-Blood Prince (Harry Potter  #6)'"
      ]
     },
     "execution_count": 47,
     "metadata": {},
     "output_type": "execute_result"
    }
   ],
   "source": [
    "# Take a look at a sample movie description\n",
    "df['title'][0]"
   ]
  },
  {
   "cell_type": "code",
   "execution_count": 48,
   "id": "6297a423-fd70-42d6-add5-d17ed0c618d6",
   "metadata": {},
   "outputs": [
    {
     "data": {
      "text/plain": [
       "np.int64(10)"
      ]
     },
     "execution_count": 48,
     "metadata": {},
     "output_type": "execute_result"
    }
   ],
   "source": [
    "# Use the lambda function to split the description into words and count the length of the paragraph\n",
    "df['new_column'] = df.title.apply(lambda x: len(str(x).split(' ')))\n",
    "df['new_column'][0]"
   ]
  },
  {
   "cell_type": "code",
   "execution_count": 49,
   "id": "d7821e56-50d8-4ea6-8a2b-6d9b85876dcc",
   "metadata": {},
   "outputs": [
    {
     "data": {
      "text/plain": [
       "<Compressed Sparse Row sparse matrix of dtype 'float64'\n",
       "\twith 5 stored elements and shape (1, 11090)>"
      ]
     },
     "execution_count": 49,
     "metadata": {},
     "output_type": "execute_result"
    }
   ],
   "source": [
    "# There are 11090 words (not including stop words) used to describe the different books\n",
    "tfidf_matrix[0]"
   ]
  },
  {
   "cell_type": "code",
   "execution_count": 50,
   "id": "2cfba776-44d4-4d10-b226-6dd714e81b2e",
   "metadata": {},
   "outputs": [
    {
     "name": "stdout",
     "output_type": "stream",
     "text": [
      "<Compressed Sparse Row sparse matrix of dtype 'float64'\n",
      "\twith 5 stored elements and shape (1, 11090)>\n",
      "  Coords\tValues\n",
      "  (0, 4606)\t0.578259465690308\n",
      "  (0, 7752)\t0.6037245307706429\n",
      "  (0, 4539)\t0.3466347512612644\n",
      "  (0, 1292)\t0.2922551986233868\n",
      "  (0, 7835)\t0.3091341608120538\n"
     ]
    }
   ],
   "source": [
    "# Look at the vector representing the importance of the words in the document. Cumulatively, they represent the document.\n",
    "print(tfidf_matrix[0])"
   ]
  },
  {
   "cell_type": "code",
   "execution_count": 51,
   "id": "0fc887c0-9bb5-40bb-bd8b-b99ff7b56774",
   "metadata": {},
   "outputs": [],
   "source": [
    "# Assign the instance of our recommender function.\n",
    "# This is a matrix with a similarity value for every book with every other books in the dataset\n",
    "\n",
    "from sklearn.metrics.pairwise import cosine_similarity\n",
    "distance_matrix = cosine_similarity(tfidf_matrix)\n",
    "\n",
    "# Re-create the indices of our list of books by removing any duplicates if required\n",
    "indices = pd.Series(df.index, index=df['title']).drop_duplicates()"
   ]
  },
  {
   "cell_type": "code",
   "execution_count": 52,
   "id": "c2bfa920-0fde-494a-943d-2532e278154a",
   "metadata": {},
   "outputs": [
    {
     "data": {
      "text/plain": [
       "123721129"
      ]
     },
     "execution_count": 52,
     "metadata": {},
     "output_type": "execute_result"
    }
   ],
   "source": [
    "distance_matrix.size"
   ]
  },
  {
   "cell_type": "code",
   "execution_count": 53,
   "id": "55369a2c-388c-41ef-ad59-eeda4c9a73f3",
   "metadata": {},
   "outputs": [],
   "source": [
    "def ContentBasedRecommender(title, indices, distance_matrix):\n",
    "    # Fix the check to avoid ValueError\n",
    "    if title not in indices.index:\n",
    "        print(f\"'{title}' not found in the dataset.\")\n",
    "        return []\n",
    "\n",
    "    id_ = indices[title]  # Get the index of the book\n",
    "    distances = list(enumerate(distance_matrix[id_])) # Get distances from the similarity/distance matrix\n",
    "    distances = sorted(distances, key=lambda x: x[1], reverse=True) # Sort by similarity (descending)\n",
    "    \n",
    "    top_matches = distances[1:6] # Skip the first match (the book itself)\n",
    "    recommended_indices = [i[0] for i in top_matches] # Extract the indices of the recommended books\n",
    "\n",
    "    # Return the corresponding titles\n",
    "    return df['title'].iloc[recommended_indices].reset_index(drop=True)\n"
   ]
  },
  {
   "cell_type": "code",
   "execution_count": 54,
   "id": "c40e58ed-a33b-4124-80c3-bddfe57301d8",
   "metadata": {},
   "outputs": [
    {
     "name": "stdout",
     "output_type": "stream",
     "text": [
      "<class 'numpy.ndarray'>\n",
      "(11123, 11123)\n",
      "1.0\n",
      "<class 'numpy.float64'>\n"
     ]
    }
   ],
   "source": [
    "print(type(distance_matrix))               # Should be <class 'numpy.ndarray'>\n",
    "print(distance_matrix.shape)              # Should be (N, N), where N = number of books\n",
    "print(distance_matrix[0][0])              # Should be a float like 1.0, not an array\n",
    "print(type(distance_matrix[0][0]))  "
   ]
  },
  {
   "cell_type": "code",
   "execution_count": 55,
   "id": "c76b99a8-fb3c-483c-824f-ab3b3d578550",
   "metadata": {},
   "outputs": [
    {
     "name": "stdout",
     "output_type": "stream",
     "text": [
      "Top Recommendations:\n",
      "0                                       The Changeling\n",
      "1                                       The Changeling\n",
      "2                                           Changeling\n",
      "3                                   The Changeling Sea\n",
      "4    A Changeling for All Seasons (Changeling Seaso...\n",
      "Name: title, dtype: object\n"
     ]
    }
   ],
   "source": [
    "\n",
    "# Example usage\n",
    "book_title = \"Changeling (Changeling  #1)\"\n",
    "recommendations = ContentBasedRecommender(book_title, indices, distance_matrix)\n",
    "print(\"Top Recommendations:\")\n",
    "print(recommendations)"
   ]
  },
  {
   "cell_type": "code",
   "execution_count": 56,
   "id": "62942c1b-6456-43ac-a82f-1ca11fcefb3c",
   "metadata": {},
   "outputs": [],
   "source": [
    "# Define a function that takes the re-indexed dataset, finds the 6 most similar titles \n",
    "#to a chosen title based on the\n",
    "# similarity of the words in the titles,\n",
    "# and returns the top 5, (not) including itself, which will be the best match. \n",
    "\n",
    "def ContentBasedRecommender(title, indices, distance_matrix):\n",
    "    if title not in indices:\n",
    "        print(f\"'{title}' not found in the dataset.\")\n",
    "        return []\n",
    "        \n",
    "    id_ = indices[title] #Fetch the index of the book we will enter\n",
    "    \n",
    "    #List of tuples with distance for each book to the entered movie (2 cols = id and distance)\n",
    "    distances = list(enumerate(distance_matrix[id_])) \n",
    "    \n",
    "    #sort the book by the distance function, which is in column[1]\n",
    "    distances = sorted(distances, key=lambda x: x[1], reverse = True) \n",
    "    \n",
    "    distances = distances[1:6] # Get the 5 best scores, not including itself\n",
    "    print(distances)\n",
    "    \n",
    "    # get the indices of the top 5\n",
    "    recommendations = [distance[0] for distance in distances] \n",
    "    \n",
    "    # return those recommendation names by pulling title from the given 5 indices\n",
    "    return df['title'].iloc[recommendations] "
   ]
  },
  {
   "cell_type": "code",
   "execution_count": 57,
   "id": "48ebf9da-17d1-497d-a255-50318289529f",
   "metadata": {},
   "outputs": [
    {
     "name": "stdout",
     "output_type": "stream",
     "text": [
      "[(6, np.float64(0.802723259014784)), (10675, np.float64(0.7596836050891125)), (2, np.float64(0.729409121003878)), (4415, np.float64(0.729409121003878)), (10674, np.float64(0.7259450162060239))]\n",
      "6             Harry Potter Collection (Harry Potter  #1-6)\n",
      "10675    Harry Potter and the Goblet of Fire (Harry Pot...\n",
      "2        Harry Potter and the Chamber of Secrets (Harry...\n",
      "4415     Harry Potter and the Chamber of Secrets (Harry...\n",
      "10674    Harry Potter and the Philosopher's Stone (Harr...\n",
      "Name: title, dtype: object\n"
     ]
    }
   ],
   "source": [
    "#Pick a title and see the resulting recommendations:\n",
    "book_title = \"Harry Potter and the Order of the Phoenix (Harry Potter  #5)\"\n",
    "recommendations = ContentBasedRecommender(book_title, indices, distance_matrix)\n",
    "print(recommendations)"
   ]
  },
  {
   "cell_type": "code",
   "execution_count": null,
   "id": "30a4b11d-8023-4d5a-9a2a-cd9bfe127637",
   "metadata": {},
   "outputs": [],
   "source": []
  }
 ],
 "metadata": {
  "kernelspec": {
   "display_name": "Python 3",
   "language": "python",
   "name": "python3"
  },
  "language_info": {
   "codemirror_mode": {
    "name": "ipython",
    "version": 3
   },
   "file_extension": ".py",
   "mimetype": "text/x-python",
   "name": "python",
   "nbconvert_exporter": "python",
   "pygments_lexer": "ipython3",
   "version": "3.13.3"
  }
 },
 "nbformat": 4,
 "nbformat_minor": 5
}
