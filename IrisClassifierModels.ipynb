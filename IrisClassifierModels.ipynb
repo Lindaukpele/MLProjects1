{
 "cells": [
  {
   "cell_type": "markdown",
   "id": "8efa5181-7772-402f-b7a8-6226de78584f",
   "metadata": {},
   "source": [
    "### Iris Plant Dataset using KNN classifier, Random Forest, Decision Tree, Support Vector Classifier (SVC) & Gaussian Naive Bayes Classifier Models"
   ]
  },
  {
   "cell_type": "code",
   "execution_count": 1,
   "id": "305203f4-b561-4d14-bed4-fc0f720c5544",
   "metadata": {},
   "outputs": [],
   "source": [
    "import pandas as pd\n",
    "import numpy as np\n",
    "import matplotlib.pyplot as plt\n",
    "import seaborn as sn\n",
    "from sklearn.preprocessing import LabelEncoder, OneHotEncoder \n",
    "from sklearn.model_selection import train_test_split\n",
    "from sklearn.preprocessing import StandardScaler\n",
    "from sklearn.linear_model import LogisticRegression \n",
    "from sklearn.neighbors import KNeighborsClassifier\n",
    "from sklearn.svm import SVC\n",
    "from sklearn.tree import DecisionTreeClassifier\n",
    "from sklearn.ensemble import RandomForestClassifier\n",
    "from sklearn.metrics import accuracy_score, confusion_matrix \n",
    "\n",
    "import warnings\n",
    "warnings.filterwarnings(\"ignore\")"
   ]
  },
  {
   "cell_type": "code",
   "execution_count": 5,
   "id": "19868dd1-71d3-4d9e-842b-736b5ae06354",
   "metadata": {},
   "outputs": [],
   "source": [
    "df = pd.read_csv('https://raw.githubusercontent.com/jbrownlee/Datasets/master/iris.csv', header=None)"
   ]
  },
  {
   "cell_type": "code",
   "execution_count": 6,
   "id": "a7c52281-48a9-4214-93ed-b4e6020cc3a7",
   "metadata": {},
   "outputs": [
    {
     "data": {
      "text/html": [
       "<div>\n",
       "<style scoped>\n",
       "    .dataframe tbody tr th:only-of-type {\n",
       "        vertical-align: middle;\n",
       "    }\n",
       "\n",
       "    .dataframe tbody tr th {\n",
       "        vertical-align: top;\n",
       "    }\n",
       "\n",
       "    .dataframe thead th {\n",
       "        text-align: right;\n",
       "    }\n",
       "</style>\n",
       "<table border=\"1\" class=\"dataframe\">\n",
       "  <thead>\n",
       "    <tr style=\"text-align: right;\">\n",
       "      <th></th>\n",
       "      <th>0</th>\n",
       "      <th>1</th>\n",
       "      <th>2</th>\n",
       "      <th>3</th>\n",
       "      <th>4</th>\n",
       "    </tr>\n",
       "  </thead>\n",
       "  <tbody>\n",
       "    <tr>\n",
       "      <th>0</th>\n",
       "      <td>5.1</td>\n",
       "      <td>3.5</td>\n",
       "      <td>1.4</td>\n",
       "      <td>0.2</td>\n",
       "      <td>Iris-setosa</td>\n",
       "    </tr>\n",
       "    <tr>\n",
       "      <th>1</th>\n",
       "      <td>4.9</td>\n",
       "      <td>3.0</td>\n",
       "      <td>1.4</td>\n",
       "      <td>0.2</td>\n",
       "      <td>Iris-setosa</td>\n",
       "    </tr>\n",
       "    <tr>\n",
       "      <th>2</th>\n",
       "      <td>4.7</td>\n",
       "      <td>3.2</td>\n",
       "      <td>1.3</td>\n",
       "      <td>0.2</td>\n",
       "      <td>Iris-setosa</td>\n",
       "    </tr>\n",
       "    <tr>\n",
       "      <th>3</th>\n",
       "      <td>4.6</td>\n",
       "      <td>3.1</td>\n",
       "      <td>1.5</td>\n",
       "      <td>0.2</td>\n",
       "      <td>Iris-setosa</td>\n",
       "    </tr>\n",
       "    <tr>\n",
       "      <th>4</th>\n",
       "      <td>5.0</td>\n",
       "      <td>3.6</td>\n",
       "      <td>1.4</td>\n",
       "      <td>0.2</td>\n",
       "      <td>Iris-setosa</td>\n",
       "    </tr>\n",
       "  </tbody>\n",
       "</table>\n",
       "</div>"
      ],
      "text/plain": [
       "     0    1    2    3            4\n",
       "0  5.1  3.5  1.4  0.2  Iris-setosa\n",
       "1  4.9  3.0  1.4  0.2  Iris-setosa\n",
       "2  4.7  3.2  1.3  0.2  Iris-setosa\n",
       "3  4.6  3.1  1.5  0.2  Iris-setosa\n",
       "4  5.0  3.6  1.4  0.2  Iris-setosa"
      ]
     },
     "execution_count": 6,
     "metadata": {},
     "output_type": "execute_result"
    }
   ],
   "source": [
    "df.head(5)"
   ]
  },
  {
   "cell_type": "code",
   "execution_count": 7,
   "id": "6d16bb11-a838-4e8d-8130-dc7ad6160924",
   "metadata": {},
   "outputs": [],
   "source": [
    "# Rename the columns\n",
    "df.columns = ['sepal-length', 'sepal-width', 'petal-length', 'petal-width', 'class']"
   ]
  },
  {
   "cell_type": "code",
   "execution_count": 8,
   "id": "8b8413ca-3358-4fa8-b493-9f623d8b8610",
   "metadata": {},
   "outputs": [
    {
     "data": {
      "text/html": [
       "<div>\n",
       "<style scoped>\n",
       "    .dataframe tbody tr th:only-of-type {\n",
       "        vertical-align: middle;\n",
       "    }\n",
       "\n",
       "    .dataframe tbody tr th {\n",
       "        vertical-align: top;\n",
       "    }\n",
       "\n",
       "    .dataframe thead th {\n",
       "        text-align: right;\n",
       "    }\n",
       "</style>\n",
       "<table border=\"1\" class=\"dataframe\">\n",
       "  <thead>\n",
       "    <tr style=\"text-align: right;\">\n",
       "      <th></th>\n",
       "      <th>sepal-length</th>\n",
       "      <th>sepal-width</th>\n",
       "      <th>petal-length</th>\n",
       "      <th>petal-width</th>\n",
       "      <th>class</th>\n",
       "    </tr>\n",
       "  </thead>\n",
       "  <tbody>\n",
       "    <tr>\n",
       "      <th>0</th>\n",
       "      <td>5.1</td>\n",
       "      <td>3.5</td>\n",
       "      <td>1.4</td>\n",
       "      <td>0.2</td>\n",
       "      <td>Iris-setosa</td>\n",
       "    </tr>\n",
       "    <tr>\n",
       "      <th>1</th>\n",
       "      <td>4.9</td>\n",
       "      <td>3.0</td>\n",
       "      <td>1.4</td>\n",
       "      <td>0.2</td>\n",
       "      <td>Iris-setosa</td>\n",
       "    </tr>\n",
       "  </tbody>\n",
       "</table>\n",
       "</div>"
      ],
      "text/plain": [
       "   sepal-length  sepal-width  petal-length  petal-width        class\n",
       "0           5.1          3.5           1.4          0.2  Iris-setosa\n",
       "1           4.9          3.0           1.4          0.2  Iris-setosa"
      ]
     },
     "execution_count": 8,
     "metadata": {},
     "output_type": "execute_result"
    }
   ],
   "source": [
    "df.head(2)"
   ]
  },
  {
   "cell_type": "code",
   "execution_count": 27,
   "id": "c1bf6c44-c222-4cb5-9fdb-2f0870e427a7",
   "metadata": {},
   "outputs": [
    {
     "data": {
      "text/plain": [
       "Text(0.5, 1.0, 'Credit Amount vs Age')"
      ]
     },
     "execution_count": 27,
     "metadata": {},
     "output_type": "execute_result"
    },
    {
     "data": {
      "image/png": "[encoded data removed]",
      "text/plain": [
       "<Figure size 1000x500 with 1 Axes>"
      ]
     },
     "metadata": {},
     "output_type": "display_data"
    }
   ],
   "source": [
    "plt.figure(figsize=(10,5))\n",
    "sn.scatterplot(data = df, x=df[\"sepal-length\"], y=df[\"sepal-width\"], hue=df[\"class\"])\n",
    "plt.title(\"Credit Amount vs Age\")"
   ]
  },
  {
   "cell_type": "code",
   "execution_count": 9,
   "id": "b7bee86b-f915-4c36-ac2a-8f738f55bd8e",
   "metadata": {},
   "outputs": [
    {
     "name": "stdout",
     "output_type": "stream",
     "text": [
      "<class 'pandas.core.frame.DataFrame'>\n",
      "RangeIndex: 150 entries, 0 to 149\n",
      "Data columns (total 5 columns):\n",
      " #   Column        Non-Null Count  Dtype  \n",
      "---  ------        --------------  -----  \n",
      " 0   sepal-length  150 non-null    float64\n",
      " 1   sepal-width   150 non-null    float64\n",
      " 2   petal-length  150 non-null    float64\n",
      " 3   petal-width   150 non-null    float64\n",
      " 4   class         150 non-null    object \n",
      "dtypes: float64(4), object(1)\n",
      "memory usage: 6.0+ KB\n"
     ]
    }
   ],
   "source": [
    "df.info()"
   ]
  },
  {
   "cell_type": "code",
   "execution_count": 13,
   "id": "d5f29770-518d-4744-b103-591540fa0701",
   "metadata": {},
   "outputs": [],
   "source": [
    "#Get your columns and split the dataset first before scaling and then fit and transform only the training dataset, transform the test data\n",
    "X = df.iloc[:,:-1].values \n",
    "y = df.iloc[:,-1].values "
   ]
  },
  {
   "cell_type": "code",
   "execution_count": 14,
   "id": "c056a713-c9c7-4ef2-95c6-cfdb4c9da168",
   "metadata": {},
   "outputs": [],
   "source": [
    "X_train, X_test, y_train, y_test = train_test_split(X, y, test_size = 0.25, random_state=7)"
   ]
  },
  {
   "cell_type": "markdown",
   "id": "958644cb-0f6e-44dc-9cf8-181ccc0f5cd5",
   "metadata": {},
   "source": [
    "### Using Logistic Regression Estimator"
   ]
  },
  {
   "cell_type": "code",
   "execution_count": 16,
   "id": "0b3e3b9e-e7d9-491f-8c1e-14fb21427271",
   "metadata": {},
   "outputs": [
    {
     "name": "stdout",
     "output_type": "stream",
     "text": [
      "Logistic Regression Accuracy: 0.868421052631579\n",
      "Logistic Regression Confusion Matrix:\n",
      " [[11  0  0]\n",
      " [ 0 10  4]\n",
      " [ 0  1 12]]\n"
     ]
    }
   ],
   "source": [
    "model = LogisticRegression(solver='liblinear', multi_class='ovr', random_state=15) # 'ovr' is for multi-class\n",
    "model.fit(X_train, y_train)\n",
    "y_pred = model.predict(X_test)\n",
    "score = model.score(X_test, y_test)\n",
    "accuracy = accuracy_score(y_test, y_pred)\n",
    "con_matrix = confusion_matrix(y_test, y_pred)\n",
    "\n",
    "print('Logistic Regression Accuracy:', accuracy) #OR it can be written in a single line print('Logistic Regression Accuracy:', accuracy_score(y_test, y_pred)\n",
    "print('Logistic Regression Confusion Matrix:\\n', con_matrix) # ORprint('Logistic Regression Confusion Matrix:\\n', confusion_matrix(y_test, y_pred))"
   ]
  },
  {
   "cell_type": "markdown",
   "id": "3173488d-bfa7-4fb8-98a6-fb2b7db905c6",
   "metadata": {},
   "source": [
    "### Using K-Nearest Neighbors (KNN) Estimators"
   ]
  },
  {
   "cell_type": "code",
   "execution_count": 18,
   "id": "6484af6d-f596-47f0-a195-409a71ee606c",
   "metadata": {},
   "outputs": [
    {
     "name": "stdout",
     "output_type": "stream",
     "text": [
      "KNN Accuracy (k=5): 0.8947368421052632\n",
      "KNN Confusion Matrix:\n",
      " [[11  0  0]\n",
      " [ 0 13  1]\n",
      " [ 0  3 10]]\n"
     ]
    }
   ],
   "source": [
    "modelKNN= KNeighborsClassifier(n_neighbors = 5) #k values should always be odd numbers\n",
    "modelKNN.fit(X_train, y_train)\n",
    "y_predKNN = modelKNN.predict(X_test)\n",
    "\n",
    "print('KNN Accuracy (k=5):', accuracy_score(y_test, y_predKNN)) \n",
    "print('KNN Confusion Matrix:\\n', confusion_matrix(y_test, y_predKNN)) "
   ]
  },
  {
   "cell_type": "markdown",
   "id": "d215d160-a49d-4912-b7c7-d70710322fcb",
   "metadata": {},
   "source": [
    "### Using Decision Tree "
   ]
  },
  {
   "cell_type": "code",
   "execution_count": 19,
   "id": "dab6b8f9-ec09-46ba-a12f-b1d69a988445",
   "metadata": {},
   "outputs": [
    {
     "name": "stdout",
     "output_type": "stream",
     "text": [
      "Decision Tree Accuracy: 0.9210526315789473\n",
      "Decision Tree Matrix:\n",
      " [[11  0  0]\n",
      " [ 0 12  2]\n",
      " [ 0  1 12]]\n"
     ]
    }
   ],
   "source": [
    "from sklearn.tree import DecisionTreeClassifier\n",
    "modelTree = DecisionTreeClassifier(criterion = 'entropy', max_leaf_nodes = 1000)\n",
    "modelTree.fit(X_train, y_train)\n",
    "y_predT = modelTree.predict(X_test)\n",
    "accuracyT = accuracy_score(y_test, y_predT)\n",
    "con_matrixT = confusion_matrix(y_test, y_predT)\n",
    "\n",
    "print('Decision Tree Accuracy:', accuracyT) \n",
    "print('Decision Tree Matrix:\\n', con_matrixT) "
   ]
  },
  {
   "cell_type": "markdown",
   "id": "bf470794-3aca-4cea-a217-72e374779023",
   "metadata": {},
   "source": [
    "### Using Random Forest"
   ]
  },
  {
   "cell_type": "code",
   "execution_count": 21,
   "id": "64e469ff-22ad-4e2d-ac03-18c8d5ac5722",
   "metadata": {},
   "outputs": [
    {
     "name": "stdout",
     "output_type": "stream",
     "text": [
      "Random Forest Accuracy: 0.8947368421052632\n",
      "Random Forest Matrix:\n",
      " [[11  0  0]\n",
      " [ 0 12  2]\n",
      " [ 0  2 11]]\n"
     ]
    }
   ],
   "source": [
    "from sklearn.tree import DecisionTreeClassifier\n",
    "modelRF = RandomForestClassifier(n_estimators = 10, bootstrap = True)\n",
    "modelRF.fit(X_train, y_train)\n",
    "y_predRF = modelRF.predict(X_test)\n",
    "accuracyRF = accuracy_score(y_test, y_predRF)\n",
    "con_matrixRF= confusion_matrix(y_test, y_predRF)\n",
    "\n",
    "print('Random Forest Accuracy:', accuracyRF) \n",
    "print('Random Forest Matrix:\\n', con_matrixRF) "
   ]
  },
  {
   "cell_type": "markdown",
   "id": "6af02635-0f83-43f7-af2f-8f304d7cf90d",
   "metadata": {},
   "source": [
    "### Using SVC Model Estimator"
   ]
  },
  {
   "cell_type": "code",
   "execution_count": 17,
   "id": "211a8e8a-b6e3-4189-8543-b706db7b8d00",
   "metadata": {},
   "outputs": [
    {
     "name": "stdout",
     "output_type": "stream",
     "text": [
      "SVM Accuracy (Linear Kernel): 0.9736842105263158\n",
      "SVM Confision Matrix (Linear Kernel):\n",
      " [[11  0  0]\n",
      " [ 0 13  1]\n",
      " [ 0  0 13]]\n"
     ]
    }
   ],
   "source": [
    "modelsvc = SVC(kernel = 'linear', C=1.0, random_state=15)  #using linear kernel, C=1.0\n",
    "modelsvc.fit(X_train, y_train)\n",
    "y_predsvc = modelsvc.predict(X_test)\n",
    "scoresvc = modelsvc.score(X_test, y_test)\n",
    "\n",
    "print('SVM Accuracy (Linear Kernel):', accuracy_score(y_test, y_predsvc))\n",
    "print('SVM Confision Matrix (Linear Kernel):\\n', confusion_matrix(y_test, y_predsvc))"
   ]
  },
  {
   "cell_type": "markdown",
   "id": "9f19f201-3be5-4850-8918-8e4d9b423ba7",
   "metadata": {},
   "source": [
    "### Using Gaussian Naive Bayes Classifier"
   ]
  },
  {
   "cell_type": "code",
   "execution_count": 22,
   "id": "c42ed01f-c866-43d8-ba35-6b96b55ed0d2",
   "metadata": {},
   "outputs": [
    {
     "name": "stdout",
     "output_type": "stream",
     "text": [
      "Naive Bayes Accuracy: 0.868421052631579\n",
      "Naive Bayes Confusion Matrix:\n",
      " [[11  0  0]\n",
      " [ 0 11  3]\n",
      " [ 0  2 11]]\n"
     ]
    }
   ],
   "source": [
    "from sklearn.naive_bayes import GaussianNB\n",
    "modelnb = GaussianNB()\n",
    "modelnb.fit(X_train, y_train)\n",
    "y_prednb = modelnb.predict(X_test)\n",
    "scorenb = modelnb.score(X_test, y_test)\n",
    "\n",
    "print('Naive Bayes Accuracy:', accuracy_score(y_test, y_prednb))\n",
    "print('Naive Bayes Confusion Matrix:\\n', confusion_matrix(y_test, y_prednb))"
   ]
  },
  {
   "cell_type": "code",
   "execution_count": 23,
   "id": "571c8c18-b76a-4211-b347-30bf66428170",
   "metadata": {},
   "outputs": [
    {
     "data": {
      "image/png": "[encoded data removed]",
      "text/plain": [
       "<Figure size 1000x500 with 1 Axes>"
      ]
     },
     "metadata": {},
     "output_type": "display_data"
    }
   ],
   "source": [
    "models = [\"LR\",  \"KNN\", \"DT\", \"RF\", \"SVC\", \"GNB\"]\n",
    "accuracy =[0.868, 0.894, 0.921, 0.894, 0.973, 0.868 ]\n",
    "\n",
    "plt.figure(figsize=(10, 5))\n",
    "plt.bar(models, accuracy, color=\"green\")\n",
    "plt.xlabel(\"models\")\n",
    "plt.ylabel(\"accuracy\")\n",
    "plt.title(\"Accuracy of different Models\")\n",
    "plt.show()"
   ]
  },
  {
   "cell_type": "code",
   "execution_count": null,
   "id": "ca43f3a9-d6db-4576-9e72-04ebc834c22f",
   "metadata": {},
   "outputs": [],
   "source": []
  }
 ],
 "metadata": {
  "kernelspec": {
   "display_name": "Python 3 (ipykernel)",
   "language": "python",
   "name": "python3"
  },
  "language_info": {
   "codemirror_mode": {
    "name": "ipython",
    "version": 3
   },
   "file_extension": ".py",
   "mimetype": "text/x-python",
   "name": "python",
   "nbconvert_exporter": "python",
   "pygments_lexer": "ipython3",
   "version": "3.12.7"
  }
 },
 "nbformat": 4,
 "nbformat_minor": 5
}
