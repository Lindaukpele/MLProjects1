{
 "cells": [
  {
   "cell_type": "code",
   "execution_count": 77,
   "id": "1de16e2c-9416-423b-93b4-95a389c56e38",
   "metadata": {},
   "outputs": [
    {
     "data": {
      "text/html": [
       "<div>\n",
       "<style scoped>\n",
       "    .dataframe tbody tr th:only-of-type {\n",
       "        vertical-align: middle;\n",
       "    }\n",
       "\n",
       "    .dataframe tbody tr th {\n",
       "        vertical-align: top;\n",
       "    }\n",
       "\n",
       "    .dataframe thead th {\n",
       "        text-align: right;\n",
       "    }\n",
       "</style>\n",
       "<table border=\"1\" class=\"dataframe\">\n",
       "  <thead>\n",
       "    <tr style=\"text-align: right;\">\n",
       "      <th></th>\n",
       "      <th>Company \\n(Maker-if known)</th>\n",
       "      <th>Specific Bean Origin\\nor Bar Name</th>\n",
       "      <th>REF</th>\n",
       "      <th>Review\\nDate</th>\n",
       "      <th>Cocoa\\nPercent</th>\n",
       "      <th>Company\\nLocation</th>\n",
       "      <th>Rating</th>\n",
       "      <th>Bean\\nType</th>\n",
       "      <th>Broad Bean\\nOrigin</th>\n",
       "    </tr>\n",
       "  </thead>\n",
       "  <tbody>\n",
       "    <tr>\n",
       "      <th>0</th>\n",
       "      <td>A. Morin</td>\n",
       "      <td>Agua Grande</td>\n",
       "      <td>1876</td>\n",
       "      <td>2016</td>\n",
       "      <td>63%</td>\n",
       "      <td>France</td>\n",
       "      <td>3.75</td>\n",
       "      <td></td>\n",
       "      <td>Sao Tome</td>\n",
       "    </tr>\n",
       "    <tr>\n",
       "      <th>1</th>\n",
       "      <td>A. Morin</td>\n",
       "      <td>Kpime</td>\n",
       "      <td>1676</td>\n",
       "      <td>2015</td>\n",
       "      <td>70%</td>\n",
       "      <td>France</td>\n",
       "      <td>2.75</td>\n",
       "      <td></td>\n",
       "      <td>Togo</td>\n",
       "    </tr>\n",
       "    <tr>\n",
       "      <th>2</th>\n",
       "      <td>A. Morin</td>\n",
       "      <td>Atsane</td>\n",
       "      <td>1676</td>\n",
       "      <td>2015</td>\n",
       "      <td>70%</td>\n",
       "      <td>France</td>\n",
       "      <td>3.00</td>\n",
       "      <td></td>\n",
       "      <td>Togo</td>\n",
       "    </tr>\n",
       "    <tr>\n",
       "      <th>3</th>\n",
       "      <td>A. Morin</td>\n",
       "      <td>Akata</td>\n",
       "      <td>1680</td>\n",
       "      <td>2015</td>\n",
       "      <td>70%</td>\n",
       "      <td>France</td>\n",
       "      <td>3.50</td>\n",
       "      <td></td>\n",
       "      <td>Togo</td>\n",
       "    </tr>\n",
       "    <tr>\n",
       "      <th>4</th>\n",
       "      <td>A. Morin</td>\n",
       "      <td>Quilla</td>\n",
       "      <td>1704</td>\n",
       "      <td>2015</td>\n",
       "      <td>70%</td>\n",
       "      <td>France</td>\n",
       "      <td>3.50</td>\n",
       "      <td></td>\n",
       "      <td>Peru</td>\n",
       "    </tr>\n",
       "  </tbody>\n",
       "</table>\n",
       "</div>"
      ],
      "text/plain": [
       "  Company \\n(Maker-if known) Specific Bean Origin\\nor Bar Name   REF  \\\n",
       "0                   A. Morin                       Agua Grande  1876   \n",
       "1                   A. Morin                             Kpime  1676   \n",
       "2                   A. Morin                            Atsane  1676   \n",
       "3                   A. Morin                             Akata  1680   \n",
       "4                   A. Morin                            Quilla  1704   \n",
       "\n",
       "   Review\\nDate Cocoa\\nPercent Company\\nLocation  Rating Bean\\nType  \\\n",
       "0          2016            63%            France    3.75              \n",
       "1          2015            70%            France    2.75              \n",
       "2          2015            70%            France    3.00              \n",
       "3          2015            70%            France    3.50              \n",
       "4          2015            70%            France    3.50              \n",
       "\n",
       "  Broad Bean\\nOrigin  \n",
       "0           Sao Tome  \n",
       "1               Togo  \n",
       "2               Togo  \n",
       "3               Togo  \n",
       "4               Peru  "
      ]
     },
     "execution_count": 77,
     "metadata": {},
     "output_type": "execute_result"
    }
   ],
   "source": [
    "import pandas as pd\n",
    "df = pd.read_csv('flavors_of_cacao.csv')\n",
    "df.head(5)"
   ]
  },
  {
   "cell_type": "code",
   "execution_count": 79,
   "id": "ed4204c3-4c5c-4955-a09d-b452dc15490a",
   "metadata": {},
   "outputs": [
    {
     "name": "stdout",
     "output_type": "stream",
     "text": [
      "There are 1795 rows and 9 columns\n"
     ]
    }
   ],
   "source": [
    "df.shape\n",
    "nRow, nCol = df.shape\n",
    "print(f'There are {nRow} rows and {nCol} columns')"
   ]
  },
  {
   "cell_type": "code",
   "execution_count": 81,
   "id": "2eb95b67-5e32-42c7-a54f-bd752fbc3055",
   "metadata": {},
   "outputs": [
    {
     "data": {
      "text/plain": [
       "Index(['Company \\n(Maker-if known)', 'Specific Bean Origin\\nor Bar Name',\n",
       "       'REF', 'Review\\nDate', 'Cocoa\\nPercent', 'Company\\nLocation', 'Rating',\n",
       "       'Bean\\nType', 'Broad Bean\\nOrigin'],\n",
       "      dtype='object')"
      ]
     },
     "execution_count": 81,
     "metadata": {},
     "output_type": "execute_result"
    }
   ],
   "source": [
    "df.columns"
   ]
  },
  {
   "cell_type": "code",
   "execution_count": 83,
   "id": "705e72b9-e789-4c34-b909-777cb580ead5",
   "metadata": {},
   "outputs": [
    {
     "data": {
      "text/plain": [
       "Index(['Company \\n(Maker-if known)', 'SpecificBean', 'REF', 'ReviewDate',\n",
       "       'CocoaPercent', 'CompanyLocation', 'Rating', 'BeanType',\n",
       "       'BroadBeanOrigin'],\n",
       "      dtype='object')"
      ]
     },
     "execution_count": 83,
     "metadata": {},
     "output_type": "execute_result"
    }
   ],
   "source": [
    "#Renaming column names \n",
    "df=df.rename(columns = {'Company \\n(Maker-if known)': 'Company',\n",
    "                        'Specific Bean Origin\\nor Bar Name': 'SpecificBean',\n",
    "                        'Review\\nDate': 'ReviewDate',\n",
    "                        'Cocoa\\nPercent': 'CocoaPercent',\n",
    "                        'Company\\nLocation': 'CompanyLocation',\n",
    "                        'Bean\\nType': 'BeanType',\n",
    "                        'Broad Bean\\nOrigin':'BroadBeanOrigin'})   \n",
    "              \n",
    "df.columns       \n",
    "                        "
   ]
  },
  {
   "cell_type": "code",
   "execution_count": 85,
   "id": "3cbadc6d-f1b3-4d60-b4d6-10564a25490b",
   "metadata": {},
   "outputs": [
    {
     "name": "stdout",
     "output_type": "stream",
     "text": [
      "<class 'pandas.core.frame.DataFrame'>\n",
      "RangeIndex: 1795 entries, 0 to 1794\n",
      "Data columns (total 9 columns):\n",
      " #   Column                     Non-Null Count  Dtype  \n",
      "---  ------                     --------------  -----  \n",
      " 0   Company \n",
      "(Maker-if known)  1795 non-null   object \n",
      " 1   SpecificBean               1795 non-null   object \n",
      " 2   REF                        1795 non-null   int64  \n",
      " 3   ReviewDate                 1795 non-null   int64  \n",
      " 4   CocoaPercent               1795 non-null   object \n",
      " 5   CompanyLocation            1795 non-null   object \n",
      " 6   Rating                     1795 non-null   float64\n",
      " 7   BeanType                   1794 non-null   object \n",
      " 8   BroadBeanOrigin            1794 non-null   object \n",
      "dtypes: float64(1), int64(2), object(6)\n",
      "memory usage: 126.3+ KB\n"
     ]
    }
   ],
   "source": [
    "df.info()"
   ]
  },
  {
   "cell_type": "code",
   "execution_count": 87,
   "id": "292f9d27-8fa5-45d3-ba84-8e989af21874",
   "metadata": {},
   "outputs": [
    {
     "data": {
      "text/plain": [
       "Company \\n(Maker-if known)    0\n",
       "SpecificBean                  0\n",
       "REF                           0\n",
       "ReviewDate                    0\n",
       "CocoaPercent                  0\n",
       "CompanyLocation               0\n",
       "Rating                        0\n",
       "BeanType                      1\n",
       "BroadBeanOrigin               1\n",
       "dtype: int64"
      ]
     },
     "execution_count": 87,
     "metadata": {},
     "output_type": "execute_result"
    }
   ],
   "source": [
    "df.isna().sum()  #To sum the total of null values"
   ]
  },
  {
   "cell_type": "code",
   "execution_count": 93,
   "id": "d41ba870-4487-459b-9a3a-eeeb2d4fa351",
   "metadata": {},
   "outputs": [
    {
     "data": {
      "text/plain": [
       "Company \\n(Maker-if known)    0\n",
       "SpecificBean                  0\n",
       "REF                           0\n",
       "ReviewDate                    0\n",
       "CocoaPercent                  0\n",
       "CompanyLocation               0\n",
       "Rating                        0\n",
       "BeanType                      0\n",
       "BroadBeanOrigin               0\n",
       "dtype: int64"
      ]
     },
     "execution_count": 93,
     "metadata": {},
     "output_type": "execute_result"
    }
   ],
   "source": [
    "#Replacing missing values with unknown\n",
    "df.fillna({'BeanType': 'Unknown'}, inplace=True)\n",
    "df.fillna({'BroadBeanOrigin': 'Unknown'}, inplace=True)\n",
    "df.isna().sum()  #To sum the total of null values\n",
    "\n",
    "\n",
    "#OR\n",
    "#df['BeanType'].fillna('Unknown', inplace=True)\n",
    "#df['BroadBeanOrigin'].fillna('Unknown', inplace=True)\n"
   ]
  },
  {
   "cell_type": "code",
   "execution_count": 131,
   "id": "af6c02bf-e21e-42fb-ab1d-56f2889dd83c",
   "metadata": {},
   "outputs": [
    {
     "data": {
      "text/plain": [
       "Index(['Company', 'SpecificBean', 'REF', 'ReviewDate', 'CocoaPercent',\n",
       "       'CompanyLocation', 'Rating', 'BeanType', 'BroadBeanOrigin'],\n",
       "      dtype='object')"
      ]
     },
     "execution_count": 131,
     "metadata": {},
     "output_type": "execute_result"
    }
   ],
   "source": [
    "#Removing spaces and in the first column name to rename\n",
    "df.columns = df.columns.str.replace(\"\\n\", \" \").str.strip()  # Clean column names\n",
    "df = df.rename(columns={df.columns[df.columns.str.contains(\"Company\")][0]: \"Company\"})  #This method: Removes newline characters (\\n). Strips extra spaces. Finds and renames the column dynamically.\n",
    "df.columns"
   ]
  },
  {
   "cell_type": "code",
   "execution_count": 137,
   "id": "59f5c6f7-3f70-4497-b1ab-d2fc582817f5",
   "metadata": {},
   "outputs": [
    {
     "name": "stdout",
     "output_type": "stream",
     "text": [
      "There are 416 unique company names\n"
     ]
    }
   ],
   "source": [
    "#Getting the unique company names\n",
    "unique = df['Company'].nunique()\n",
    "print(f'There are {unique} unique company names')\n"
   ]
  },
  {
   "cell_type": "code",
   "execution_count": 159,
   "id": "62a02978-77ea-48a3-94d6-c1a5d65ec157",
   "metadata": {},
   "outputs": [
    {
     "name": "stdout",
     "output_type": "stream",
     "text": [
      "The number of reviews for 2013:  184\n"
     ]
    }
   ],
   "source": [
    "#Number of reviews made in 2013\n",
    "reviews_2013 = (df['ReviewDate'] == 2013).sum()\n",
    "print(f\"The number of reviews for 2013: \", reviews_2013)"
   ]
  },
  {
   "cell_type": "code",
   "execution_count": 161,
   "id": "8b04300f-0c37-4bd1-b67a-b9f7c8df2100",
   "metadata": {},
   "outputs": [
    {
     "data": {
      "text/plain": [
       "0"
      ]
     },
     "execution_count": 161,
     "metadata": {},
     "output_type": "execute_result"
    }
   ],
   "source": [
    "#Number of missig values in the BeanType column\n",
    "df['BeanType'].isna().sum()"
   ]
  },
  {
   "cell_type": "markdown",
   "id": "cd252c0e-28e7-46d6-a513-2d80ac37e402",
   "metadata": {},
   "source": [
    "### Visualization"
   ]
  },
  {
   "cell_type": "code",
   "execution_count": 204,
   "id": "006dc9e6-5e68-4dae-a08c-248763c3c1d1",
   "metadata": {},
   "outputs": [
    {
     "data": {
      "text/plain": [
       "<function matplotlib.pyplot.show(close=None, block=None)>"
      ]
     },
     "execution_count": 204,
     "metadata": {},
     "output_type": "execute_result"
    },
    {
     "data": {
      "image/png": "[encoded data removed]",
      "text/plain": [
       "<Figure size 800x400 with 1 Axes>"
      ]
     },
     "metadata": {},
     "output_type": "display_data"
    }
   ],
   "source": [
    "import matplotlib.pyplot as plt\n",
    "import seaborn as sn\n",
    "\n",
    "df_subset = df.iloc[:100, 6] \n",
    "df_subset.hist(bins=10, figsize=(8, 4))\n",
    "plt.title(\"Histogram of Rating\", size = 15)\n",
    "plt.show"
   ]
  },
  {
   "cell_type": "code",
   "execution_count": 206,
   "id": "3257f27c-2344-4db9-b29a-b2f9c2d70d0f",
   "metadata": {},
   "outputs": [
    {
     "name": "stdout",
     "output_type": "stream",
     "text": [
      "0    0.63\n",
      "1    0.70\n",
      "2    0.70\n",
      "3    0.70\n",
      "4    0.70\n",
      "Name: CocoaPercent, dtype: float64\n"
     ]
    }
   ],
   "source": [
    "# Remove '%' and convert to float, then divide by 100 to get decimal values\n",
    "df['CocoaPercent'] = df['CocoaPercent'].replace('%', '', regex=True).astype(float) / 100\n",
    "\n",
    "# Check the result\n",
    "print(df['CocoaPercent'].head())"
   ]
  },
  {
   "cell_type": "markdown",
   "id": "93c1e6da-c12b-4f32-91f5-e6991350f38e",
   "metadata": {},
   "source": [
    "#Plot the converted numerical Cocoa Percent values against the Rating values!\n",
    "#scatter plot with small alpha, e.g., 0.1, to flush out the density of each point.\n",
    "\n",
    "plt.scatter(df[\"Rating\"],df[\"CocoaPercent\"], alpha = 0.1, color=\"purple\")\n",
    "plt.title(\"Predicting Cocoa Quantity Based on Rating\", size = 15)\n",
    "plt.xlabel(\"Rating\")\n",
    "plt.ylabel(\"CocoaPercent\")\n",
    "plt.show()"
   ]
  },
  {
   "cell_type": "code",
   "execution_count": null,
   "id": "62a780d5-8766-483b-9095-feb6952ad1fc",
   "metadata": {},
   "outputs": [],
   "source": []
  }
 ],
 "metadata": {
  "kernelspec": {
   "display_name": "Python [conda env:base] *",
   "language": "python",
   "name": "conda-base-py"
  },
  "language_info": {
   "codemirror_mode": {
    "name": "ipython",
    "version": 3
   },
   "file_extension": ".py",
   "mimetype": "text/x-python",
   "name": "python",
   "nbconvert_exporter": "python",
   "pygments_lexer": "ipython3",
   "version": "3.12.7"
  }
 },
 "nbformat": 4,
 "nbformat_minor": 5
}
