{
 "cells": [
  {
   "cell_type": "code",
   "execution_count": 1,
   "id": "cb01846f",
   "metadata": {},
   "outputs": [],
   "source": [
    "import pandas as pd\n",
    "import numpy as np\n",
    "import warnings\n",
    "warnings.filterwarnings('ignore')"
   ]
  },
  {
   "cell_type": "code",
   "execution_count": 3,
   "id": "cf35221e",
   "metadata": {},
   "outputs": [
    {
     "data": {
      "text/html": [
       "<div>\n",
       "<style scoped>\n",
       "    .dataframe tbody tr th:only-of-type {\n",
       "        vertical-align: middle;\n",
       "    }\n",
       "\n",
       "    .dataframe tbody tr th {\n",
       "        vertical-align: top;\n",
       "    }\n",
       "\n",
       "    .dataframe thead th {\n",
       "        text-align: right;\n",
       "    }\n",
       "</style>\n",
       "<table border=\"1\" class=\"dataframe\">\n",
       "  <thead>\n",
       "    <tr style=\"text-align: right;\">\n",
       "      <th></th>\n",
       "      <th>bookID</th>\n",
       "      <th>title</th>\n",
       "      <th>authors</th>\n",
       "      <th>average_rating</th>\n",
       "      <th>isbn</th>\n",
       "      <th>isbn13</th>\n",
       "      <th>language_code</th>\n",
       "      <th>num_pages</th>\n",
       "      <th>ratings_count</th>\n",
       "      <th>text_reviews_count</th>\n",
       "      <th>publication_date</th>\n",
       "      <th>publisher</th>\n",
       "    </tr>\n",
       "  </thead>\n",
       "  <tbody>\n",
       "    <tr>\n",
       "      <th>0</th>\n",
       "      <td>1</td>\n",
       "      <td>Harry Potter and the Half-Blood Prince (Harry ...</td>\n",
       "      <td>J.K. Rowling/Mary GrandPré</td>\n",
       "      <td>4.57</td>\n",
       "      <td>0439785960</td>\n",
       "      <td>9780439785969</td>\n",
       "      <td>eng</td>\n",
       "      <td>652</td>\n",
       "      <td>2095690</td>\n",
       "      <td>27591</td>\n",
       "      <td>9/16/2006</td>\n",
       "      <td>Scholastic Inc.</td>\n",
       "    </tr>\n",
       "    <tr>\n",
       "      <th>1</th>\n",
       "      <td>2</td>\n",
       "      <td>Harry Potter and the Order of the Phoenix (Har...</td>\n",
       "      <td>J.K. Rowling/Mary GrandPré</td>\n",
       "      <td>4.49</td>\n",
       "      <td>0439358078</td>\n",
       "      <td>9780439358071</td>\n",
       "      <td>eng</td>\n",
       "      <td>870</td>\n",
       "      <td>2153167</td>\n",
       "      <td>29221</td>\n",
       "      <td>9/1/2004</td>\n",
       "      <td>Scholastic Inc.</td>\n",
       "    </tr>\n",
       "  </tbody>\n",
       "</table>\n",
       "</div>"
      ],
      "text/plain": [
       "   bookID                                              title  \\\n",
       "0       1  Harry Potter and the Half-Blood Prince (Harry ...   \n",
       "1       2  Harry Potter and the Order of the Phoenix (Har...   \n",
       "\n",
       "                      authors  average_rating        isbn         isbn13  \\\n",
       "0  J.K. Rowling/Mary GrandPré            4.57  0439785960  9780439785969   \n",
       "1  J.K. Rowling/Mary GrandPré            4.49  0439358078  9780439358071   \n",
       "\n",
       "  language_code    num_pages  ratings_count  text_reviews_count  \\\n",
       "0           eng          652        2095690               27591   \n",
       "1           eng          870        2153167               29221   \n",
       "\n",
       "  publication_date        publisher  \n",
       "0        9/16/2006  Scholastic Inc.  \n",
       "1         9/1/2004  Scholastic Inc.  "
      ]
     },
     "execution_count": 3,
     "metadata": {},
     "output_type": "execute_result"
    }
   ],
   "source": [
    "file = '/Users/Lindiway/MACHINE_LEARNING_2025/FEB-ML-25-Multi-Partner/RecommenderEngine/books.csv'\n",
    "df = df = pd.read_csv(file, on_bad_lines='skip')\n",
    "df.head(2)"
   ]
  },
  {
   "cell_type": "code",
   "execution_count": null,
   "id": "ee56633b",
   "metadata": {},
   "outputs": [
    {
     "data": {
      "text/plain": [
       "11123"
      ]
     },
     "execution_count": 4,
     "metadata": {},
     "output_type": "execute_result"
    }
   ],
   "source": [
    "len_bookid = len(df['bookID'].unique())\n",
    "len_bookid"
   ]
  },
  {
   "cell_type": "code",
   "execution_count": 6,
   "id": "8c614071",
   "metadata": {},
   "outputs": [
    {
     "data": {
      "text/plain": [
       "Index(['bookID', 'title', 'authors', 'average_rating', 'isbn', 'isbn13',\n",
       "       'language_code', '  num_pages', 'ratings_count', 'text_reviews_count',\n",
       "       'publication_date', 'publisher'],\n",
       "      dtype='object')"
      ]
     },
     "execution_count": 6,
     "metadata": {},
     "output_type": "execute_result"
    }
   ],
   "source": [
    "df.columns"
   ]
  },
  {
   "cell_type": "markdown",
   "id": "b2152cb9",
   "metadata": {},
   "source": [
    "## Use a Weighted Rating\n",
    "<font color = \"White\"> Create a function named popularity Recommender and use it to recommend books based on popularity. <br>\n",
    "Using a weighted rank similar to that used in the IMDB rating \n"
   ]
  },
  {
   "cell_type": "code",
   "execution_count": 11,
   "id": "142b2369",
   "metadata": {},
   "outputs": [],
   "source": [
    "def popularityRecommender(df):\n",
    "    \n",
    "    #Define the minimum vote count\n",
    "    minimum_rating_count = 0.75* df['ratings_count'].max()\n",
    "    \n",
    "    #Define C – the mean rating\n",
    "    mean_rating = df['average_rating'].mean()\n",
    "\n",
    "    df['weighted_rating'] = (((df['ratings_count']/(df['ratings_count']+minimum_rating_count)) * df['average_rating']) +\n",
    "                             ((minimum_rating_count/(df['ratings_count']+minimum_rating_count))*mean_rating))\n",
    "\n",
    "    recommendations = df.sort_values(by = 'weighted_rating',ascending = False).head(5)\n",
    "    \n",
    "    return(recommendations) \n"
   ]
  },
  {
   "cell_type": "code",
   "execution_count": 12,
   "id": "906090a6",
   "metadata": {},
   "outputs": [
    {
     "data": {
      "text/html": [
       "<div>\n",
       "<style scoped>\n",
       "    .dataframe tbody tr th:only-of-type {\n",
       "        vertical-align: middle;\n",
       "    }\n",
       "\n",
       "    .dataframe tbody tr th {\n",
       "        vertical-align: top;\n",
       "    }\n",
       "\n",
       "    .dataframe thead th {\n",
       "        text-align: right;\n",
       "    }\n",
       "</style>\n",
       "<table border=\"1\" class=\"dataframe\">\n",
       "  <thead>\n",
       "    <tr style=\"text-align: right;\">\n",
       "      <th></th>\n",
       "      <th>title</th>\n",
       "      <th>ratings_count</th>\n",
       "      <th>average_rating</th>\n",
       "      <th>weighted_rating</th>\n",
       "    </tr>\n",
       "  </thead>\n",
       "  <tbody>\n",
       "    <tr>\n",
       "      <th>3</th>\n",
       "      <td>Harry Potter and the Prisoner of Azkaban (Harr...</td>\n",
       "      <td>2339585</td>\n",
       "      <td>4.56</td>\n",
       "      <td>4.187089</td>\n",
       "    </tr>\n",
       "    <tr>\n",
       "      <th>0</th>\n",
       "      <td>Harry Potter and the Half-Blood Prince (Harry ...</td>\n",
       "      <td>2095690</td>\n",
       "      <td>4.57</td>\n",
       "      <td>4.174464</td>\n",
       "    </tr>\n",
       "    <tr>\n",
       "      <th>1</th>\n",
       "      <td>Harry Potter and the Order of the Phoenix (Har...</td>\n",
       "      <td>2153167</td>\n",
       "      <td>4.49</td>\n",
       "      <td>4.147771</td>\n",
       "    </tr>\n",
       "    <tr>\n",
       "      <th>4415</th>\n",
       "      <td>Harry Potter and the Chamber of Secrets (Harry...</td>\n",
       "      <td>2293963</td>\n",
       "      <td>4.42</td>\n",
       "      <td>4.128198</td>\n",
       "    </tr>\n",
       "    <tr>\n",
       "      <th>23</th>\n",
       "      <td>The Fellowship of the Ring (The Lord of the Ri...</td>\n",
       "      <td>2128944</td>\n",
       "      <td>4.36</td>\n",
       "      <td>4.096661</td>\n",
       "    </tr>\n",
       "  </tbody>\n",
       "</table>\n",
       "</div>"
      ],
      "text/plain": [
       "                                                  title  ratings_count  \\\n",
       "3     Harry Potter and the Prisoner of Azkaban (Harr...        2339585   \n",
       "0     Harry Potter and the Half-Blood Prince (Harry ...        2095690   \n",
       "1     Harry Potter and the Order of the Phoenix (Har...        2153167   \n",
       "4415  Harry Potter and the Chamber of Secrets (Harry...        2293963   \n",
       "23    The Fellowship of the Ring (The Lord of the Ri...        2128944   \n",
       "\n",
       "      average_rating  weighted_rating  \n",
       "3               4.56         4.187089  \n",
       "0               4.57         4.174464  \n",
       "1               4.49         4.147771  \n",
       "4415            4.42         4.128198  \n",
       "23              4.36         4.096661  "
      ]
     },
     "execution_count": 12,
     "metadata": {},
     "output_type": "execute_result"
    }
   ],
   "source": [
    "top5 = popularityRecommender(df)\n",
    "top5[[\"title\",'ratings_count','average_rating','weighted_rating',]].head(5)"
   ]
  },
  {
   "cell_type": "code",
   "execution_count": 13,
   "id": "f1f874d8",
   "metadata": {},
   "outputs": [
    {
     "name": "stdout",
     "output_type": "stream",
     "text": [
      "The top 5 recommended books based on popularity are:\n",
      " ['Harry Potter and the Prisoner of Azkaban (Harry Potter  #3)'\n",
      " 'Harry Potter and the Half-Blood Prince (Harry Potter  #6)'\n",
      " 'Harry Potter and the Order of the Phoenix (Harry Potter  #5)'\n",
      " 'Harry Potter and the Chamber of Secrets (Harry Potter  #2)'\n",
      " 'The Fellowship of the Ring (The Lord of the Rings  #1)']\n"
     ]
    }
   ],
   "source": [
    "#The top 5 recommended books based on popularity are:\n",
    "top5Names = top5[\"title\"].head(5).values\n",
    "print(f'The top 5 recommended books based on popularity are:\\n {top5Names}')"
   ]
  },
  {
   "cell_type": "code",
   "execution_count": null,
   "id": "f064fab6",
   "metadata": {},
   "outputs": [],
   "source": []
  },
  {
   "cell_type": "markdown",
   "id": "d4f5660d",
   "metadata": {},
   "source": [
    "### <font color = \"White\"> Content Based Recommender\n",
    "<font color = \"White\"> Create a function named Content Based Recommender with TF-IDF and use it to recommend books based on content."
   ]
  },
  {
   "cell_type": "markdown",
   "id": "0b3e9959",
   "metadata": {},
   "source": []
  },
  {
   "cell_type": "code",
   "execution_count": 24,
   "id": "04e713ef",
   "metadata": {},
   "outputs": [],
   "source": [
    "from sklearn.feature_extraction.text import TfidfVectorizer\n",
    "from sklearn.metrics.pairwise import cosine_similarity\n",
    "import pandas as pd\n",
    "\n",
    "\n",
    "df['content'] = df['title'] + ' ' + df['authors']  # Build the content column\n",
    "\n",
    "cbr = TfidfVectorizer(stop_words='english')  # Create a tfidf matrix\n",
    "tfidf_matrix = cbr.fit_transform(df['content'])\n",
    "distance_matrix = cosine_similarity(tfidf_matrix, tfidf_matrix) #Compute cosine similarity\n",
    "indices = pd.Series(df.index, index=df['title']).drop_duplicates() # Build a reverse index (title to index)\n",
    "\n",
    "# 5. Content-based recommender function\n",
    "def ContentBasedRecommender(title, indices, distance_matrix, top_n=5):\n",
    "    if title not in indices:\n",
    "        print(f\"'{title}' not found in the dataset.\")\n",
    "        return []\n",
    "\n",
    "    idx = indices[title]\n",
    "    distance = list(enumerate(distance_matrix[idx]))\n",
    "    distance = sorted(distance, key=lambda x: x[1], reverse=True)\n",
    "    distance = distance[1:top_n+1]  # skip the first (the book itself)\n",
    "\n",
    "    book_indices = [i[0] for i in distance]\n",
    "    return df['title'].iloc[book_indices]\n"
   ]
  },
  {
   "cell_type": "code",
   "execution_count": 25,
   "id": "2ecf2a30",
   "metadata": {},
   "outputs": [
    {
     "name": "stdout",
     "output_type": "stream",
     "text": [
      "4415    Harry Potter and the Chamber of Secrets (Harry...\n",
      "8873    Harry Potter and the Sorcerer's Stone (Harry P...\n",
      "0       Harry Potter and the Half-Blood Prince (Harry ...\n",
      "3       Harry Potter and the Prisoner of Azkaban (Harr...\n",
      "4       Harry Potter Boxed Set  Books 1-5 (Harry Potte...\n",
      "Name: title, dtype: object\n"
     ]
    }
   ],
   "source": [
    "\n",
    "book_title = \"Harry Potter and the Order of the Phoenix (Harry Potter  #5)\"\n",
    "recommendations = ContentBasedRecommender(book_title, indices, distance_matrix, top_n=5)\n",
    "print(recommendations)"
   ]
  }
 ],
 "metadata": {
  "kernelspec": {
   "display_name": "base",
   "language": "python",
   "name": "python3"
  },
  "language_info": {
   "codemirror_mode": {
    "name": "ipython",
    "version": 3
   },
   "file_extension": ".py",
   "mimetype": "text/x-python",
   "name": "python",
   "nbconvert_exporter": "python",
   "pygments_lexer": "ipython3",
   "version": "3.12.7"
  }
 },
 "nbformat": 4,
 "nbformat_minor": 5
}
