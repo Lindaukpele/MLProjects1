{
 "cells": [
  {
   "cell_type": "code",
   "execution_count": 60,
   "id": "b91db7a1-6322-4d29-8b7a-388eb3098ce5",
   "metadata": {},
   "outputs": [],
   "source": [
    "import pandas as pd\n",
    "import numpy as np\n",
    "import matplotlib.pyplot as plt"
   ]
  },
  {
   "cell_type": "code",
   "execution_count": 61,
   "id": "b16eb953-1e3f-49cc-afdc-d49bb6048a21",
   "metadata": {},
   "outputs": [
    {
     "data": {
      "text/html": [
       "<div>\n",
       "<style scoped>\n",
       "    .dataframe tbody tr th:only-of-type {\n",
       "        vertical-align: middle;\n",
       "    }\n",
       "\n",
       "    .dataframe tbody tr th {\n",
       "        vertical-align: top;\n",
       "    }\n",
       "\n",
       "    .dataframe thead th {\n",
       "        text-align: right;\n",
       "    }\n",
       "</style>\n",
       "<table border=\"1\" class=\"dataframe\">\n",
       "  <thead>\n",
       "    <tr style=\"text-align: right;\">\n",
       "      <th></th>\n",
       "      <th>date</th>\n",
       "      <th>home_team</th>\n",
       "      <th>away_team</th>\n",
       "      <th>home_score</th>\n",
       "      <th>away_score</th>\n",
       "      <th>tournament</th>\n",
       "      <th>city</th>\n",
       "      <th>country</th>\n",
       "      <th>neutral</th>\n",
       "    </tr>\n",
       "  </thead>\n",
       "  <tbody>\n",
       "    <tr>\n",
       "      <th>0</th>\n",
       "      <td>1872-11-30</td>\n",
       "      <td>Scotland</td>\n",
       "      <td>England</td>\n",
       "      <td>0</td>\n",
       "      <td>0</td>\n",
       "      <td>Friendly</td>\n",
       "      <td>Glasgow</td>\n",
       "      <td>Scotland</td>\n",
       "      <td>False</td>\n",
       "    </tr>\n",
       "    <tr>\n",
       "      <th>1</th>\n",
       "      <td>1873-03-08</td>\n",
       "      <td>England</td>\n",
       "      <td>Scotland</td>\n",
       "      <td>4</td>\n",
       "      <td>2</td>\n",
       "      <td>Friendly</td>\n",
       "      <td>London</td>\n",
       "      <td>England</td>\n",
       "      <td>False</td>\n",
       "    </tr>\n",
       "    <tr>\n",
       "      <th>2</th>\n",
       "      <td>1874-03-07</td>\n",
       "      <td>Scotland</td>\n",
       "      <td>England</td>\n",
       "      <td>2</td>\n",
       "      <td>1</td>\n",
       "      <td>Friendly</td>\n",
       "      <td>Glasgow</td>\n",
       "      <td>Scotland</td>\n",
       "      <td>False</td>\n",
       "    </tr>\n",
       "    <tr>\n",
       "      <th>3</th>\n",
       "      <td>1875-03-06</td>\n",
       "      <td>England</td>\n",
       "      <td>Scotland</td>\n",
       "      <td>2</td>\n",
       "      <td>2</td>\n",
       "      <td>Friendly</td>\n",
       "      <td>London</td>\n",
       "      <td>England</td>\n",
       "      <td>False</td>\n",
       "    </tr>\n",
       "    <tr>\n",
       "      <th>4</th>\n",
       "      <td>1876-03-04</td>\n",
       "      <td>Scotland</td>\n",
       "      <td>England</td>\n",
       "      <td>3</td>\n",
       "      <td>0</td>\n",
       "      <td>Friendly</td>\n",
       "      <td>Glasgow</td>\n",
       "      <td>Scotland</td>\n",
       "      <td>False</td>\n",
       "    </tr>\n",
       "    <tr>\n",
       "      <th>5</th>\n",
       "      <td>1876-03-25</td>\n",
       "      <td>Scotland</td>\n",
       "      <td>Wales</td>\n",
       "      <td>4</td>\n",
       "      <td>0</td>\n",
       "      <td>Friendly</td>\n",
       "      <td>Glasgow</td>\n",
       "      <td>Scotland</td>\n",
       "      <td>False</td>\n",
       "    </tr>\n",
       "    <tr>\n",
       "      <th>6</th>\n",
       "      <td>1877-03-03</td>\n",
       "      <td>England</td>\n",
       "      <td>Scotland</td>\n",
       "      <td>1</td>\n",
       "      <td>3</td>\n",
       "      <td>Friendly</td>\n",
       "      <td>London</td>\n",
       "      <td>England</td>\n",
       "      <td>False</td>\n",
       "    </tr>\n",
       "    <tr>\n",
       "      <th>7</th>\n",
       "      <td>1877-03-05</td>\n",
       "      <td>Wales</td>\n",
       "      <td>Scotland</td>\n",
       "      <td>0</td>\n",
       "      <td>2</td>\n",
       "      <td>Friendly</td>\n",
       "      <td>Wrexham</td>\n",
       "      <td>Wales</td>\n",
       "      <td>False</td>\n",
       "    </tr>\n",
       "    <tr>\n",
       "      <th>8</th>\n",
       "      <td>1878-03-02</td>\n",
       "      <td>Scotland</td>\n",
       "      <td>England</td>\n",
       "      <td>7</td>\n",
       "      <td>2</td>\n",
       "      <td>Friendly</td>\n",
       "      <td>Glasgow</td>\n",
       "      <td>Scotland</td>\n",
       "      <td>False</td>\n",
       "    </tr>\n",
       "    <tr>\n",
       "      <th>9</th>\n",
       "      <td>1878-03-23</td>\n",
       "      <td>Scotland</td>\n",
       "      <td>Wales</td>\n",
       "      <td>9</td>\n",
       "      <td>0</td>\n",
       "      <td>Friendly</td>\n",
       "      <td>Glasgow</td>\n",
       "      <td>Scotland</td>\n",
       "      <td>False</td>\n",
       "    </tr>\n",
       "  </tbody>\n",
       "</table>\n",
       "</div>"
      ],
      "text/plain": [
       "         date home_team away_team  home_score  away_score tournament     city  \\\n",
       "0  1872-11-30  Scotland   England           0           0   Friendly  Glasgow   \n",
       "1  1873-03-08   England  Scotland           4           2   Friendly   London   \n",
       "2  1874-03-07  Scotland   England           2           1   Friendly  Glasgow   \n",
       "3  1875-03-06   England  Scotland           2           2   Friendly   London   \n",
       "4  1876-03-04  Scotland   England           3           0   Friendly  Glasgow   \n",
       "5  1876-03-25  Scotland     Wales           4           0   Friendly  Glasgow   \n",
       "6  1877-03-03   England  Scotland           1           3   Friendly   London   \n",
       "7  1877-03-05     Wales  Scotland           0           2   Friendly  Wrexham   \n",
       "8  1878-03-02  Scotland   England           7           2   Friendly  Glasgow   \n",
       "9  1878-03-23  Scotland     Wales           9           0   Friendly  Glasgow   \n",
       "\n",
       "    country  neutral  \n",
       "0  Scotland    False  \n",
       "1   England    False  \n",
       "2  Scotland    False  \n",
       "3   England    False  \n",
       "4  Scotland    False  \n",
       "5  Scotland    False  \n",
       "6   England    False  \n",
       "7     Wales    False  \n",
       "8  Scotland    False  \n",
       "9  Scotland    False  "
      ]
     },
     "execution_count": 61,
     "metadata": {},
     "output_type": "execute_result"
    }
   ],
   "source": [
    "df = pd.read_csv('results.csv')\n",
    "df.head(10)"
   ]
  },
  {
   "cell_type": "code",
   "execution_count": 62,
   "id": "92bfb170-4d50-49ef-b483-a7df333f24e3",
   "metadata": {},
   "outputs": [
    {
     "data": {
      "text/plain": [
       "date          0\n",
       "home_team     0\n",
       "away_team     0\n",
       "home_score    0\n",
       "away_score    0\n",
       "tournament    0\n",
       "city          0\n",
       "country       0\n",
       "neutral       0\n",
       "dtype: int64"
      ]
     },
     "execution_count": 62,
     "metadata": {},
     "output_type": "execute_result"
    }
   ],
   "source": [
    "#Sum of missing values if any\n",
    "df.isna().sum()"
   ]
  },
  {
   "cell_type": "code",
   "execution_count": 63,
   "id": "2ba929a6-762d-4d73-bfb8-ddfbcc8a6918",
   "metadata": {},
   "outputs": [
    {
     "name": "stdout",
     "output_type": "stream",
     "text": [
      "There are 42650 rows and 9 columns\n"
     ]
    }
   ],
   "source": [
    "nRow, nCol = df.shape\n",
    "df.shape\n",
    "print(f\"There are {nRow} rows and {nCol} columns\")"
   ]
  },
  {
   "cell_type": "code",
   "execution_count": 64,
   "id": "f11da7f4-7355-403e-a494-a1b12d2b2ad9",
   "metadata": {},
   "outputs": [
    {
     "data": {
      "text/plain": [
       "Index(['date', 'home_team', 'away_team', 'home_score', 'away_score',\n",
       "       'tournament', 'city', 'country', 'neutral'],\n",
       "      dtype='object')"
      ]
     },
     "execution_count": 64,
     "metadata": {},
     "output_type": "execute_result"
    }
   ],
   "source": [
    "df.columns"
   ]
  },
  {
   "cell_type": "code",
   "execution_count": 65,
   "id": "0bd6ccce-5f72-49c2-a3f1-d962512f304b",
   "metadata": {},
   "outputs": [
    {
     "name": "stdout",
     "output_type": "stream",
     "text": [
      "There are 42650 tournaments\n"
     ]
    }
   ],
   "source": [
    "df['tournament'].count() #gets the number of tournament\n",
    "print(f\"There are {df['tournament'].count()} tournaments\")"
   ]
  },
  {
   "cell_type": "code",
   "execution_count": 66,
   "id": "f2ac905b-d6c4-4114-bf55-2ce753ade10c",
   "metadata": {},
   "outputs": [
    {
     "name": "stdout",
     "output_type": "stream",
     "text": [
      "Current datetime:  2025-03-09 22:22:13.194569\n",
      "Integer timestamp of current datetime:  1741584133\n"
     ]
    },
    {
     "data": {
      "text/plain": [
       "0       1872-11-30\n",
       "1       1873-03-08\n",
       "2       1874-03-07\n",
       "3       1875-03-06\n",
       "4       1876-03-04\n",
       "           ...    \n",
       "42645   2021-09-09\n",
       "42646   2021-09-09\n",
       "42647   2021-09-09\n",
       "42648   2021-09-09\n",
       "42649   2021-09-09\n",
       "Name: date, Length: 42650, dtype: datetime64[ns]"
      ]
     },
     "execution_count": 66,
     "metadata": {},
     "output_type": "execute_result"
    }
   ],
   "source": [
    "#Convert the column date to timestamps!\n",
    "\n",
    "from datetime import datetime\n",
    "#Not sure of this \n",
    "curr_dt = datetime.now()\n",
    "print(\"Current datetime: \", curr_dt)\n",
    "timestamp = int(curr_dt.timestamp())\n",
    "print(\"Integer timestamp of current datetime: \", timestamp)\n",
    "curr_dt.timestamp()\n",
    " \n",
    "\n",
    "#Not sure of this \n",
    "df['date'] = pd.to_datetime(df['date'])\n",
    "df['date']"
   ]
  },
  {
   "cell_type": "markdown",
   "id": "8a43f19a-ea06-4519-a8c1-5b86ad441efe",
   "metadata": {},
   "source": [
    "#### Find out how many matches in the dataset were played in 2018."
   ]
  },
  {
   "cell_type": "code",
   "execution_count": 68,
   "id": "e7aab39b-b247-4f4e-9061-6b83019194d6",
   "metadata": {},
   "outputs": [],
   "source": [
    "matches_2018 = df[df['date'].dt.year == 2018].shape[0]"
   ]
  },
  {
   "cell_type": "markdown",
   "id": "b5ef0686-9a6a-40a4-bc04-8c1e16349a72",
   "metadata": {},
   "source": [
    "### Team Statistics\n",
    "#### Calculate how many times the home team won, lost, or had a draw."
   ]
  },
  {
   "cell_type": "code",
   "execution_count": 70,
   "id": "c39d8caf-e7d3-4b7c-a46a-5f50c9b69eed",
   "metadata": {},
   "outputs": [
    {
     "name": "stdout",
     "output_type": "stream",
     "text": [
      "Home team won 20739 games\n",
      "Home team lost 12074 games\n",
      "Home team drew 20739 games\n"
     ]
    }
   ],
   "source": [
    "\n",
    "\n",
    "home_win = (df['home_score'] > df['away_score']).sum()\n",
    "home_lost = (df['home_score'] < df['away_score']).sum()\n",
    "home_draw = (df['home_score'] == df['away_score']).sum()\n",
    "\n",
    "print(f\"Home team won {home_win} games\")\n",
    "print(f\"Home team lost {home_lost} games\")\n",
    "print(f\"Home team drew {home_win} games\")"
   ]
  },
  {
   "cell_type": "markdown",
   "id": "dd361e7c-eb5e-46a0-8a4f-238ca13e8f1b",
   "metadata": {},
   "source": [
    "### Visualization"
   ]
  },
  {
   "cell_type": "code",
   "execution_count": 72,
   "id": "a5837d92-ccba-4705-b276-b014c0c8e3d3",
   "metadata": {},
   "outputs": [
    {
     "data": {
      "image/png": "[encoded data removed]",
      "text/plain": [
       "<Figure size 400x400 with 1 Axes>"
      ]
     },
     "metadata": {},
     "output_type": "display_data"
    }
   ],
   "source": [
    "#Plott outcomes in a piechart\n",
    "plt.figure(figsize=(4,4))\n",
    "plt.pie([home_win, home_lost, home_draw], \n",
    "        labels=['Win', 'Lost', 'Draw'], \n",
    "        autopct = '1%.1f%%', colors =['purple', 'gold', 'orange'])\n",
    "plt.title(\"Outcome of Matches\")\n",
    "plt.show()"
   ]
  },
  {
   "cell_type": "code",
   "execution_count": 73,
   "id": "31d5bd5e-58b3-4bbc-9e7a-e362ed15d487",
   "metadata": {},
   "outputs": [
    {
     "data": {
      "image/png": "[encoded data removed]",
      "text/plain": [
       "<Figure size 640x480 with 1 Axes>"
      ]
     },
     "metadata": {},
     "output_type": "display_data"
    }
   ],
   "source": [
    "#Plot the neutral column as a pie chart\n",
    "df['neutral'].value_counts().plot(kind='pie', labels=['Not Neutral', 'Neutral'], autopct = '1%.1f%%', colors =['purple', 'gold', 'orange'])\n",
    "plt.title(\"Neutrality of Venue\")\n",
    "plt.ylabel(\"\")\n",
    "plt.show()"
   ]
  },
  {
   "cell_type": "code",
   "execution_count": 74,
   "id": "909ad411-9045-4ef7-a9a9-52297ff8c09e",
   "metadata": {},
   "outputs": [
    {
     "data": {
      "text/plain": [
       "neutral\n",
       "False    32076\n",
       "True     10574\n",
       "Name: count, dtype: int64"
      ]
     },
     "execution_count": 74,
     "metadata": {},
     "output_type": "execute_result"
    }
   ],
   "source": [
    "df['neutral'].value_counts()"
   ]
  },
  {
   "cell_type": "code",
   "execution_count": 75,
   "id": "c277d5e9-2a1d-44de-9c4b-c4318b73cc17",
   "metadata": {},
   "outputs": [
    {
     "ename": "SyntaxError",
     "evalue": "invalid syntax. Perhaps you forgot a comma? (3594509926.py, line 2)",
     "output_type": "error",
     "traceback": [
      "\u001b[1;36m  Cell \u001b[1;32mIn[75], line 2\u001b[1;36m\u001b[0m\n\u001b[1;33m    plt.pie(Not Neutral, Neutral, labels=['Not Neutral', 'Neutral'],\u001b[0m\n\u001b[1;37m            ^\u001b[0m\n\u001b[1;31mSyntaxError\u001b[0m\u001b[1;31m:\u001b[0m invalid syntax. Perhaps you forgot a comma?\n"
     ]
    }
   ],
   "source": [
    "plt.figure(figsize=(4,4))\n",
    "plt.pie(Not Neutral, Neutral, labels=['Not Neutral', 'Neutral'], \n",
    "        autopct = '1%.1f%%', colors =['purple', 'gold', 'orange'])\n",
    "plt.title(\"Neutral  Matches\")\n",
    "plt.show()"
   ]
  },
  {
   "cell_type": "code",
   "execution_count": null,
   "id": "a0839bec-4eb1-4746-8bea-f9fc4266153d",
   "metadata": {},
   "outputs": [],
   "source": []
  }
 ],
 "metadata": {
  "kernelspec": {
   "display_name": "Python [conda env:base] *",
   "language": "python",
   "name": "conda-base-py"
  },
  "language_info": {
   "codemirror_mode": {
    "name": "ipython",
    "version": 3
   },
   "file_extension": ".py",
   "mimetype": "text/x-python",
   "name": "python",
   "nbconvert_exporter": "python",
   "pygments_lexer": "ipython3",
   "version": "3.12.7"
  }
 },
 "nbformat": 4,
 "nbformat_minor": 5
}
